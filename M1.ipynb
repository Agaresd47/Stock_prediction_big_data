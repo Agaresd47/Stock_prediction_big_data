{
 "cells": [
  {
   "cell_type": "markdown",
   "metadata": {},
   "source": [
    "# Milestone 1:  Project Plan, describe datasets, joins, tasks, and metrics"
   ]
  },
  {
   "cell_type": "code",
   "execution_count": 2,
   "metadata": {},
   "outputs": [
    {
     "name": "stderr",
     "output_type": "stream",
     "text": [
      "'ls' �����ڲ����ⲿ���Ҳ���ǿ����еĳ���\n",
      "���������ļ���\n"
     ]
    }
   ],
   "source": [
    "!ls"
   ]
  },
  {
   "cell_type": "code",
   "execution_count": 1,
   "metadata": {},
   "outputs": [
    {
     "name": "stderr",
     "output_type": "stream",
     "text": [
      "[NbConvertApp] Converting notebook M1.ipynb to latex\n",
      "Traceback (most recent call last):\n",
      "  File \"C:\\Users\\10648\\miniconda3\\envs\\spark\\lib\\site-packages\\nbformat\\reader.py\", line 19, in parse_json\n",
      "    nb_dict = json.loads(s, **kwargs)\n",
      "  File \"C:\\Users\\10648\\miniconda3\\envs\\spark\\lib\\json\\__init__.py\", line 346, in loads\n",
      "    return _default_decoder.decode(s)\n",
      "  File \"C:\\Users\\10648\\miniconda3\\envs\\spark\\lib\\json\\decoder.py\", line 337, in decode\n",
      "    obj, end = self.raw_decode(s, idx=_w(s, 0).end())\n",
      "  File \"C:\\Users\\10648\\miniconda3\\envs\\spark\\lib\\json\\decoder.py\", line 355, in raw_decode\n",
      "    raise JSONDecodeError(\"Expecting value\", s, err.value) from None\n",
      "json.decoder.JSONDecodeError: Expecting value: line 1 column 1 (char 0)\n",
      "\n",
      "The above exception was the direct cause of the following exception:\n",
      "\n",
      "Traceback (most recent call last):\n",
      "  File \"C:\\Users\\10648\\miniconda3\\envs\\spark\\lib\\runpy.py\", line 196, in _run_module_as_main\n",
      "    return _run_code(code, main_globals, None,\n",
      "  File \"C:\\Users\\10648\\miniconda3\\envs\\spark\\lib\\runpy.py\", line 86, in _run_code\n",
      "    exec(code, run_globals)\n",
      "  File \"C:\\Users\\10648\\miniconda3\\envs\\spark\\Scripts\\jupyter-nbconvert.EXE\\__main__.py\", line 7, in <module>\n",
      "  File \"C:\\Users\\10648\\miniconda3\\envs\\spark\\lib\\site-packages\\jupyter_core\\application.py\", line 283, in launch_instance\n",
      "    super().launch_instance(argv=argv, **kwargs)\n",
      "  File \"C:\\Users\\10648\\miniconda3\\envs\\spark\\lib\\site-packages\\traitlets\\config\\application.py\", line 1075, in launch_instance\n",
      "    app.start()\n",
      "  File \"C:\\Users\\10648\\miniconda3\\envs\\spark\\lib\\site-packages\\nbconvert\\nbconvertapp.py\", line 420, in start\n",
      "    self.convert_notebooks()\n",
      "  File \"C:\\Users\\10648\\miniconda3\\envs\\spark\\lib\\site-packages\\nbconvert\\nbconvertapp.py\", line 597, in convert_notebooks\n",
      "    self.convert_single_notebook(notebook_filename)\n",
      "  File \"C:\\Users\\10648\\miniconda3\\envs\\spark\\lib\\site-packages\\nbconvert\\nbconvertapp.py\", line 563, in convert_single_notebook\n",
      "    output, resources = self.export_single_notebook(\n",
      "  File \"C:\\Users\\10648\\miniconda3\\envs\\spark\\lib\\site-packages\\nbconvert\\nbconvertapp.py\", line 487, in export_single_notebook\n",
      "    output, resources = self.exporter.from_filename(\n",
      "  File \"C:\\Users\\10648\\miniconda3\\envs\\spark\\lib\\site-packages\\nbconvert\\exporters\\templateexporter.py\", line 390, in from_filename\n",
      "    return super().from_filename(filename, resources, **kw)  # type:ignore[return-value]\n",
      "  File \"C:\\Users\\10648\\miniconda3\\envs\\spark\\lib\\site-packages\\nbconvert\\exporters\\exporter.py\", line 201, in from_filename\n",
      "    return self.from_file(f, resources=resources, **kw)\n",
      "  File \"C:\\Users\\10648\\miniconda3\\envs\\spark\\lib\\site-packages\\nbconvert\\exporters\\templateexporter.py\", line 396, in from_file\n",
      "    return super().from_file(file_stream, resources, **kw)  # type:ignore[return-value]\n",
      "  File \"C:\\Users\\10648\\miniconda3\\envs\\spark\\lib\\site-packages\\nbconvert\\exporters\\exporter.py\", line 221, in from_file\n",
      "    nbformat.read(file_stream, as_version=4), resources=resources, **kw\n",
      "  File \"C:\\Users\\10648\\miniconda3\\envs\\spark\\lib\\site-packages\\nbformat\\__init__.py\", line 174, in read\n",
      "    return reads(buf, as_version, capture_validation_error, **kwargs)\n",
      "  File \"C:\\Users\\10648\\miniconda3\\envs\\spark\\lib\\site-packages\\nbformat\\__init__.py\", line 92, in reads\n",
      "    nb = reader.reads(s, **kwargs)\n",
      "  File \"C:\\Users\\10648\\miniconda3\\envs\\spark\\lib\\site-packages\\nbformat\\reader.py\", line 75, in reads\n",
      "    nb_dict = parse_json(s, **kwargs)\n",
      "  File \"C:\\Users\\10648\\miniconda3\\envs\\spark\\lib\\site-packages\\nbformat\\reader.py\", line 25, in parse_json\n",
      "    raise NotJSONError(message) from e\n",
      "nbformat.reader.NotJSONError: Notebook does not appear to be JSON: ''\n"
     ]
    }
   ],
   "source": [
    "!jupyter nbconvert --to latex \"M1.ipynb\""
   ]
  },
  {
   "cell_type": "markdown",
   "metadata": {},
   "source": [
    "## DELIVERABLES:\n",
    "### Data Dictionary\n",
    "| Feature | Description | Source | Data Type |\n",
    "|---------|-------------|--------|-----------|\n",
    "| Symbol | Stock ticker symbol | Original | String |\n",
    "| Date | Trading date | CSV | Date |\n",
    "| Low | Lowest price of the day | CSV | Float |\n",
    "| Open | Opening price | CSV | Float |\n",
    "| Volume | Number of shares traded | CSV | Integer |\n",
    "| High | Highest price of the day | CSV | Float |\n",
    "| Close | Closing price | CSV | Float |\n",
    "| Adjusted_Close | Close price adjusted for splits and dividends | CSV | Float |\n",
    "| currency | Trading currency | JSON | String |\n",
    "| exchange | Stock exchange | JSON | String |\n",
    "| instrumentType | Type of financial instrument | JSON | String |\n",
    "| firstTradeDate | Unix timestamp of first trading date | JSON | Integer |\n",
    "| regularMarketPrice | Latest regular market price | JSON | Float |\n",
    "| chartPreviousClose | Previous closing price from chart | JSON | Float |\n",
    "| timezone | Trading timezone | JSON | String |\n",
    "| tradingPeriods | Trading session information | JSON | Array |\n",
    "| PrevClose | Previous day's closing price | Derived | Float |\n",
    "| Return | Daily price return percentage | Derived | Float |\n",
    "| LogReturn | Natural log of daily return | Derived | Float |\n",
    "| MA7 | 7-day moving average of Close | Derived | Float |\n",
    "| MA30 | 30-day moving average of Close | Derived | Float |\n",
    "| MA90 | 90-day moving average of Close | Derived | Float |\n",
    "| Close_MA7_Ratio | Ratio of Close to 7-day MA | Derived | Float |\n",
    "| Close_MA30_Ratio | Ratio of Close to 30-day MA | Derived | Float |\n",
    "| MA7_MA30_Ratio | Ratio of 7-day MA to 30-day MA | Derived | Float |\n",
    "| STD7 | 7-day standard deviation of Close | Derived | Float |\n",
    "| STD30 | 30-day standard deviation of Close | Derived | Float |\n",
    "| VolatilityRatio | Ratio of 7-day to 30-day volatility | Derived | Float |\n",
    "| HighLowRange | Daily price range (High - Low) | Derived | Float |\n",
    "| VolumeDelta | Change in volume from previous day | Derived | Float |\n",
    "| VolumeMA7 | 7-day moving average of Volume | Derived | Float |\n",
    "| VolumeMA30 | 30-day moving average of Volume | Derived | Float |\n",
    "| RelativeVolume | Volume relative to 30-day average | Derived | Float |\n",
    "| MoneyFlow | Volume (Close - Open) | Derived | Float |\n",
    "| RSI | 14-day Relative Strength Index | Derived | Float |\n",
    "| Target_Return_1d | 1-day future return | Target | Float |\n",
    "| Target_Return_5d | 5-day future return | Target | Float |\n",
    "| Target_Return_10d | 10-day future return | Target | Float |\n",
    "| Target_Return_21d | 21-day future return | Target | Float |\n",
    "| Target_Direction_1d | 1-day price direction (1=up, 0=down) | Target | Binary |\n",
    "| Target_Direction_5d | 5-day price direction | Target | Binary |\n",
    "| Target_Direction_10d | 10-day price direction | Target | Binary |\n",
    "| Target_Direction_21d | 21-day price direction | Target | Binary |\n",
    "| Target_Volatility_5d | Volatility over next 5 days | Target | Float |\n",
    "| Target_ExtMove2pct_1d | 1-day extreme move (>2%) | Target | Binary |\n",
    "| Target_ExtMove5pct_5d | 5-day extreme move (>5%) | Target | Binary |"
   ]
  },
  {
   "cell_type": "markdown",
   "metadata": {},
   "source": [
    "## Project notebook\n",
    "\n",
    "Preprocess"
   ]
  },
  {
   "cell_type": "code",
   "execution_count": 1,
   "metadata": {},
   "outputs": [],
   "source": [
    "import pandas as pd\n",
    "import numpy as np\n",
    "import matplotlib.pyplot as plt\n",
    "import seaborn as sns\n",
    "import json\n",
    "from datetime import datetime\n",
    "import os\n",
    "import glob\n",
    "from pyspark.sql import SparkSession\n",
    "from pyspark.sql.functions import col, isnan, when, count, lit, lead, lag, avg, stddev, min, max\n",
    "from pyspark.sql.window import Window\n",
    "from pyspark.sql.types import StructType, StructField, StringType, DoubleType, DateType, IntegerType\n",
    "from pyspark.sql.functions import sqrt, avg, lead, col, expr, to_date, year, mean, log, row_number\n",
    "from pyspark.sql.window import Window"
   ]
  },
  {
   "cell_type": "markdown",
   "metadata": {},
   "source": [
    "## 1. Explain data (i.e.., simple exploratory analysis of various fields, such as the semantic as well the intrinsic meaning of ranges, null values, categorical/numerical, mean/std.dev to normalize and/or scale inputs). Identify any missing or corrupt (i.e., outlier) data."
   ]
  },
  {
   "cell_type": "code",
   "execution_count": 2,
   "metadata": {},
   "outputs": [
    {
     "name": "stderr",
     "output_type": "stream",
     "text": [
      "25/03/16 11:18:14 WARN Utils: Your hostname, Xuhuis-MacBook-Pro-105.local resolves to a loopback address: 127.0.0.1; using 172.16.96.118 instead (on interface en0)\n",
      "25/03/16 11:18:14 WARN Utils: Set SPARK_LOCAL_IP if you need to bind to another address\n",
      "Setting default log level to \"WARN\".\n",
      "To adjust logging level use sc.setLogLevel(newLevel). For SparkR, use setLogLevel(newLevel).\n",
      "25/03/16 11:18:15 WARN NativeCodeLoader: Unable to load native-hadoop library for your platform... using builtin-java classes where applicable\n"
     ]
    },
    {
     "name": "stdout",
     "output_type": "stream",
     "text": [
      "Found 1076 CSV files and 1170 JSON files\n",
      "Sample stocks:\n",
      "['CSCO', 'CSUAY', 'MQBKY', 'AIPUY', 'ZURVY', 'PWCDF', 'SMTUF', 'BCMXY', 'JMPLY', 'KOTMY']\n"
     ]
    }
   ],
   "source": [
    "# Initialize PySpark session\n",
    "spark = SparkSession.builder \\\n",
    "    .appName(\"Stock Price Forecast\") \\\n",
    "    .config(\"spark.driver.memory\", \"8g\") \\\n",
    "    .config(\"spark.executor.memory\", \"8g\") \\\n",
    "    .getOrCreate()\n",
    "\n",
    "# Define paths to data directories\n",
    "csv_path = \"data/stock_market_data/forbes2000/csv/\"\n",
    "json_path = \"data/stock_market_data/forbes2000/json/\"\n",
    "\n",
    "# Get a list of all available stock files\n",
    "csv_files = glob.glob(os.path.join(csv_path, \"*.csv\"))\n",
    "json_files = glob.glob(os.path.join(json_path, \"*.json\"))\n",
    "\n",
    "print(f\"Found {len(csv_files)} CSV files and {len(json_files)} JSON files\")\n",
    "\n",
    "# Display some sample stocks\n",
    "print(\"Sample stocks:\")\n",
    "print([os.path.basename(file).split('.')[0] for file in csv_files[:10]])"
   ]
  },
  {
   "cell_type": "markdown",
   "metadata": {},
   "source": [
    "#### Data Structure Analysis\n",
    "CSV Data Structure\n",
    "\n",
    "The CSV files contain daily trading data with these columns:\n",
    "\n",
    "Date: Trading date\n",
    "\n",
    "Low: Lowest price of the day\n",
    "\n",
    "Open: Opening price\n",
    "\n",
    "Volume: Number of shares traded\n",
    "\n",
    "High: Highest price of the day\n",
    "\n",
    "Close: Closing price\n",
    "\n",
    "Adjusted Close: Closing price adjusted for splits and dividends\n",
    "\n",
    "JSON Data Structure\n",
    "\n",
    "The JSON files contain more detailed information:\n",
    "\n",
    "Meta data: Currency, symbol, exchange, instrument type, etc.\n",
    "\n",
    "Trading periods information\n",
    "\n",
    "More granular timestamp series\n",
    "\n",
    "Additional price history details"
   ]
  },
  {
   "cell_type": "code",
   "execution_count": 3,
   "metadata": {},
   "outputs": [
    {
     "name": "stderr",
     "output_type": "stream",
     "text": [
      "                                                                                \r"
     ]
    },
    {
     "name": "stdout",
     "output_type": "stream",
     "text": [
      "Combined CSV data contains 79969 rows for 20 stocks\n",
      "root\n",
      " |-- Date: date (nullable = true)\n",
      " |-- Low: double (nullable = true)\n",
      " |-- Open: double (nullable = true)\n",
      " |-- Volume: integer (nullable = true)\n",
      " |-- High: double (nullable = true)\n",
      " |-- Close: double (nullable = true)\n",
      " |-- Adjusted_Close: double (nullable = true)\n",
      " |-- Symbol: string (nullable = false)\n",
      "\n"
     ]
    },
    {
     "name": "stderr",
     "output_type": "stream",
     "text": [
      "25/03/16 11:18:35 WARN CSVHeaderChecker: CSV header does not conform to the schema.\n",
      " Header: Date, Low, Open, Volume, High, Close, Adjusted Close\n",
      " Schema: Date, Low, Open, Volume, High, Close, Adjusted_Close\n",
      "Expected: Adjusted_Close but found: Adjusted Close\n",
      "CSV file: file:///Users/xuhuizhan/homework/BigData/Final_project/data/stock_market_data/forbes2000/csv/CSCO.csv\n"
     ]
    },
    {
     "name": "stdout",
     "output_type": "stream",
     "text": [
      "+----------+-------------------+----+---------+-------------------+-------------------+-------------------+------+\n",
      "|      Date|                Low|Open|   Volume|               High|              Close|     Adjusted_Close|Symbol|\n",
      "+----------+-------------------+----+---------+-------------------+-------------------+-------------------+------+\n",
      "|1990-02-16|0.07378499954938889| 0.0|940636800|0.07986100018024445|0.07725699990987778|0.05486249923706055|  CSCO|\n",
      "|1990-02-20|0.07465299963951111| 0.0|151862400|0.07986100018024445|0.07986100018024445|0.05671168491244316|  CSCO|\n",
      "|1990-02-21|0.07552099972963333| 0.0| 70531200|0.07899300009012222|           0.078125|0.05547890439629555|  CSCO|\n",
      "|1990-02-22|0.07899300009012222| 0.0| 45216000|0.08159700036048889|0.07899300009012222|0.05609529837965965|  CSCO|\n",
      "|1990-02-23|           0.078125| 0.0| 44697600|0.07986100018024445|0.07855899631977081|0.05578707531094551|  CSCO|\n",
      "+----------+-------------------+----+---------+-------------------+-------------------+-------------------+------+\n",
      "only showing top 5 rows\n",
      "\n",
      "\n",
      "JSON Metadata Fields:\n",
      "- currency: USD\n",
      "- symbol: FOJCY\n",
      "- exchangeName: PNK\n",
      "- instrumentType: EQUITY\n",
      "- firstTradeDate: 1262615400\n",
      "- regularMarketTime: 1670859002\n",
      "- gmtoffset: -18000\n",
      "- timezone: EST\n",
      "- exchangeTimezoneName: America/New_York\n",
      "- regularMarketPrice: 3.2\n",
      "- chartPreviousClose: 5.85\n",
      "- priceHint: 4\n",
      "- dataGranularity: 1d\n",
      "- range: \n",
      "- validRanges: ['1d', '5d', '1mo', '3mo', '6mo', '1y', '2y', '5y', '10y', 'ytd', 'max']\n",
      "\n",
      "Available indicators in JSON:\n",
      "- quote: 5 fields\n",
      "- adjclose: 1 fields\n"
     ]
    }
   ],
   "source": [
    "# Define schema for CSV files to ensure consistent data types\n",
    "csv_schema = StructType([\n",
    "    StructField(\"Date\", StringType(), True),\n",
    "    StructField(\"Low\", DoubleType(), True),\n",
    "    StructField(\"Open\", DoubleType(), True),\n",
    "    StructField(\"Volume\", IntegerType(), True),\n",
    "    StructField(\"High\", DoubleType(), True),\n",
    "    StructField(\"Close\", DoubleType(), True),\n",
    "    StructField(\"Adjusted_Close\", DoubleType(), True)\n",
    "])\n",
    "\n",
    "# Create an empty DataFrame to store the combined CSV data\n",
    "combined_df = None\n",
    "\n",
    "# Process a sample of CSV files (e.g., first 20 files) for initial exploration\n",
    "for file in csv_files[:20]:\n",
    "    ticker = os.path.basename(file).split('.')[0]\n",
    "    \n",
    "    # Read the CSV file into a Spark DataFrame\n",
    "    current_df = spark.read.csv(file, header=True, schema=csv_schema)\n",
    "    \n",
    "    # Add ticker symbol as a column\n",
    "    current_df = current_df.withColumn(\"Symbol\", lit(ticker))\n",
    "    \n",
    "    # Convert date string to date type\n",
    "    current_df = current_df.withColumn(\"Date\", to_date(col(\"Date\"), \"dd-MM-yyyy\"))\n",
    "    \n",
    "    # Append to the combined DataFrame\n",
    "    if combined_df is None:\n",
    "        combined_df = current_df\n",
    "    else:\n",
    "        combined_df = combined_df.union(current_df)\n",
    "\n",
    "# Show summary of the combined data\n",
    "print(f\"Combined CSV data contains {combined_df.count()} rows for {len(combined_df.select('Symbol').distinct().collect())} stocks\")\n",
    "combined_df.printSchema()\n",
    "combined_df.show(5)\n",
    "\n",
    "# Analyze JSON structure from one file to understand available fields\n",
    "sample_json_file = json_files[0]\n",
    "with open(sample_json_file, 'r') as f:\n",
    "    sample_json = json.load(f)\n",
    "\n",
    "# Extract metadata fields from JSON\n",
    "meta = sample_json['chart']['result'][0]['meta']\n",
    "print(\"\\nJSON Metadata Fields:\")\n",
    "for key, value in meta.items():\n",
    "    if not isinstance(value, dict):\n",
    "        print(f\"- {key}: {value}\")\n",
    "\n",
    "# Look at available indicator types in JSON\n",
    "indicators = sample_json['chart']['result'][0]['indicators']\n",
    "print(\"\\nAvailable indicators in JSON:\")\n",
    "for indicator_type, values in indicators.items():\n",
    "    print(f\"- {indicator_type}: {len(values[0]) if len(values) > 0 else 0} fields\")"
   ]
  },
  {
   "cell_type": "code",
   "execution_count": 4,
   "metadata": {},
   "outputs": [
    {
     "name": "stderr",
     "output_type": "stream",
     "text": [
      "25/03/16 11:18:37 WARN CSVHeaderChecker: CSV header does not conform to the schema.\n",
      " Header: Date, Low, Open, Volume, High, Close, Adjusted Close\n",
      " Schema: Date, Low, Open, Volume, High, Close, Adjusted_Close\n",
      "Expected: Adjusted_Close but found: Adjusted Close\n",
      "CSV file: file:///Users/xuhuizhan/homework/BigData/Final_project/data/stock_market_data/forbes2000/csv/CSCO.csv\n",
      "25/03/16 11:18:37 WARN CSVHeaderChecker: CSV header does not conform to the schema.\n",
      " Header: Date, Low, Open, Volume, High, Close, Adjusted Close\n",
      " Schema: Date, Low, Open, Volume, High, Close, Adjusted_Close\n",
      "Expected: Adjusted_Close but found: Adjusted Close\n",
      "CSV file: file:///Users/xuhuizhan/homework/BigData/Final_project/data/stock_market_data/forbes2000/csv/CSUAY.csv\n"
     ]
    },
    {
     "data": {
      "image/png": "[encoded data removed]",
      "text/plain": [
       "<Figure size 1400x700 with 1 Axes>"
      ]
     },
     "metadata": {},
     "output_type": "display_data"
    },
    {
     "data": {
      "image/png": "[encoded data removed]",
      "text/plain": [
       "<Figure size 1400x700 with 1 Axes>"
      ]
     },
     "metadata": {},
     "output_type": "display_data"
    },
    {
     "data": {
      "image/png": "[encoded data removed]",
      "text/plain": [
       "<Figure size 1400x700 with 1 Axes>"
      ]
     },
     "metadata": {},
     "output_type": "display_data"
    }
   ],
   "source": [
    "# Convert to Pandas for visualization (use a sample for efficiency)\n",
    "pandas_df = combined_df.limit(10000).toPandas()\n",
    "\n",
    "# Group by date and calculate market-wide metrics\n",
    "market_df = pandas_df.groupby('Date').agg({\n",
    "    'Close': 'mean',\n",
    "    'Volume': 'sum',\n",
    "    'High': 'mean',\n",
    "    'Low': 'mean'\n",
    "}).reset_index()\n",
    "\n",
    "# Plot market-wide closing price trend\n",
    "plt.figure(figsize=(14, 7))\n",
    "plt.plot(market_df['Date'], market_df['Close'])\n",
    "plt.title('Average Closing Price Across Sampled Stocks')\n",
    "plt.xlabel('Date')\n",
    "plt.ylabel('Average Price (USD)')\n",
    "plt.grid(True)\n",
    "plt.xticks(rotation=45)\n",
    "plt.tight_layout()\n",
    "plt.show()\n",
    "\n",
    "# Plot trading volume trend\n",
    "plt.figure(figsize=(14, 7))\n",
    "plt.bar(market_df['Date'], market_df['Volume'], alpha=0.7)\n",
    "plt.title('Total Trading Volume Across Sampled Stocks')\n",
    "plt.xlabel('Date')\n",
    "plt.ylabel('Volume')\n",
    "plt.grid(True, axis='y')\n",
    "plt.xticks(rotation=45)\n",
    "plt.tight_layout()\n",
    "plt.show()\n",
    "\n",
    "# Visualize price volatility over time\n",
    "market_df['Volatility'] = market_df['High'] - market_df['Low']\n",
    "plt.figure(figsize=(14, 7))\n",
    "plt.plot(market_df['Date'], market_df['Volatility'])\n",
    "plt.title('Average Daily Price Volatility (High-Low)')\n",
    "plt.xlabel('Date')\n",
    "plt.ylabel('Volatility (USD)')\n",
    "plt.grid(True)\n",
    "plt.xticks(rotation=45)\n",
    "plt.tight_layout()\n",
    "plt.show()"
   ]
  },
  {
   "cell_type": "code",
   "execution_count": 5,
   "metadata": {},
   "outputs": [
    {
     "name": "stdout",
     "output_type": "stream",
     "text": [
      "Top 10 Stocks by Average Return:\n"
     ]
    },
    {
     "name": "stderr",
     "output_type": "stream",
     "text": [
      "                                                                                \r"
     ]
    },
    {
     "name": "stdout",
     "output_type": "stream",
     "text": [
      "+------+--------------------+--------------------+-----------+\n",
      "|Symbol|           AvgReturn|          Volatility|TradingDays|\n",
      "+------+--------------------+--------------------+-----------+\n",
      "|  AUTR|0.004226934351660896| 0.12415432977666538|       2994|\n",
      "| AIPUY|0.001395491989984...|0.036751769256370824|       2555|\n",
      "|  ISRG|0.001356723705433...|0.031622103192064835|       5659|\n",
      "|  CSCO|0.001101145212940...| 0.02539036285241598|       8269|\n",
      "|   UAL|9.208234591147626E-4| 0.04181226274169283|       4243|\n",
      "|  TROW| 8.23801362467354E-4|0.023837998444357102|       9251|\n",
      "| SZLMY|7.389298917427634E-4|0.019834647211186798|       3422|\n",
      "|  PBNK|6.140578505195129E-4| 0.03165189097679212|       3934|\n",
      "| MQBKY|5.961209532660768E-4|0.028106562247908983|       4129|\n",
      "| ZURVY|4.545994492009156E-4|0.018491849351474646|       4916|\n",
      "+------+--------------------+--------------------+-----------+\n",
      "only showing top 10 rows\n",
      "\n",
      "Top 10 Stocks by Volatility:\n",
      "+------+--------------------+--------------------+-----------+\n",
      "|Symbol|           AvgReturn|          Volatility|TradingDays|\n",
      "+------+--------------------+--------------------+-----------+\n",
      "|  AUTR|0.004226934351660896| 0.12415432977666538|       2994|\n",
      "|   UAL|9.208234591147626E-4| 0.04181226274169283|       4243|\n",
      "| AIPUY|0.001395491989984...|0.036751769256370824|       2555|\n",
      "|  PBNK|6.140578505195129E-4| 0.03165189097679212|       3934|\n",
      "|  ISRG|0.001356723705433...|0.031622103192064835|       5659|\n",
      "| MQBKY|5.961209532660768E-4|0.028106562247908983|       4129|\n",
      "| NISTF|1.223977847781481...|0.025399014382994845|       3437|\n",
      "|  CSCO|0.001101145212940...| 0.02539036285241598|       8269|\n",
      "|  TROW| 8.23801362467354E-4|0.023837998444357102|       9251|\n",
      "| CSUAY|1.044366931619012E-4|0.022846935442970534|       3247|\n",
      "+------+--------------------+--------------------+-----------+\n",
      "only showing top 10 rows\n",
      "\n"
     ]
    }
   ],
   "source": [
    "# Calculate returns for each stock\n",
    "window_spec = Window.partitionBy(\"Symbol\").orderBy(\"Date\")\n",
    "combined_df = combined_df.withColumn(\"PrevClose\", lag(\"Close\", 1).over(window_spec))\n",
    "combined_df = combined_df.withColumn(\"DailyReturn\", (col(\"Close\") - col(\"PrevClose\")) / col(\"PrevClose\"))\n",
    "\n",
    "# Summary statistics of returns by stock\n",
    "returns_by_stock = combined_df.groupBy(\"Symbol\").agg(\n",
    "    avg(col(\"DailyReturn\")).alias(\"AvgReturn\"),\n",
    "    stddev(col(\"DailyReturn\")).alias(\"Volatility\"),\n",
    "    count(\"*\").alias(\"TradingDays\")\n",
    ")\n",
    "\n",
    "# Filter for stocks with sufficient data\n",
    "active_stocks = returns_by_stock.filter(col(\"TradingDays\") > 500)\n",
    "\n",
    "# Show top stocks by average return\n",
    "print(\"Top 10 Stocks by Average Return:\")\n",
    "active_stocks.orderBy(col(\"AvgReturn\").desc()).show(10)\n",
    "\n",
    "# Show top stocks by volatility\n",
    "print(\"Top 10 Stocks by Volatility:\")\n",
    "active_stocks.orderBy(col(\"Volatility\").desc()).show(10)"
   ]
  },
  {
   "cell_type": "code",
   "execution_count": 6,
   "metadata": {},
   "outputs": [
    {
     "name": "stderr",
     "output_type": "stream",
     "text": [
      "                                                                                \r"
     ]
    },
    {
     "name": "stdout",
     "output_type": "stream",
     "text": [
      "Volume outliers: 7554 (9.45%)\n"
     ]
    },
    {
     "name": "stderr",
     "output_type": "stream",
     "text": [
      "                                                                                \r"
     ]
    },
    {
     "name": "stdout",
     "output_type": "stream",
     "text": [
      "Return outliers: 8413 (10.55%)\n",
      "Sample volume outliers:\n",
      "+------+----------+---------+-----------+-----------+\n",
      "|Symbol|      Date|   Volume| LowerBound| UpperBound|\n",
      "+------+----------+---------+-----------+-----------+\n",
      "|  CSCO|2014-02-13|153739400|-2.880675E7|1.2281445E8|\n",
      "|  CSCO|2013-11-14|243255400|-2.880675E7|1.2281445E8|\n",
      "|  CSCO|2013-08-15|130110100|-2.880675E7|1.2281445E8|\n",
      "|  CSCO|2013-05-16|201626500|-2.880675E7|1.2281445E8|\n",
      "|  CSCO|2012-08-16|152184100|-2.880675E7|1.2281445E8|\n",
      "|  CSCO|2012-05-10|198450600|-2.880675E7|1.2281445E8|\n",
      "|  CSCO|2012-02-09|131157200|-2.880675E7|1.2281445E8|\n",
      "|  CSCO|2011-11-10|148101900|-2.880675E7|1.2281445E8|\n",
      "|  CSCO|2011-08-11|286920000|-2.880675E7|1.2281445E8|\n",
      "|  CSCO|2011-08-10|146477100|-2.880675E7|1.2281445E8|\n",
      "+------+----------+---------+-----------+-----------+\n",
      "only showing top 10 rows\n",
      "\n",
      "Sample return outliers:\n",
      "+------+----------+--------------------+----------+----------+\n",
      "|Symbol|      Date|         DailyReturn|LowerBound|UpperBound|\n",
      "+------+----------+--------------------+----------+----------+\n",
      "| AIPUY|2022-12-12|-0.02686131709342...|       0.0|       0.0|\n",
      "| AIPUY|2022-12-09|-0.01768646452600...|       0.0|       0.0|\n",
      "| AIPUY|2022-12-08|0.036156489496120825|       0.0|       0.0|\n",
      "| AIPUY|2022-12-06|-0.03857140314011347|       0.0|       0.0|\n",
      "| AIPUY|2022-12-05|-0.03581270257368579|       0.0|       0.0|\n",
      "| AIPUY|2022-12-02| 0.04913296948545413|       0.0|       0.0|\n",
      "| AIPUY|2022-12-01|  0.0126829379942359|       0.0|       0.0|\n",
      "| AIPUY|2022-11-30|0.031187166267943156|       0.0|       0.0|\n",
      "| AIPUY|2022-11-29|-0.03728815844978...|       0.0|       0.0|\n",
      "| AIPUY|2022-11-28| 0.03405109306744173|       0.0|       0.0|\n",
      "+------+----------+--------------------+----------+----------+\n",
      "only showing top 10 rows\n",
      "\n"
     ]
    }
   ],
   "source": [
    "# Function to detect outliers using IQR method\n",
    "def detect_outliers(df, column_name):\n",
    "    # Calculate quartiles for each stock\n",
    "    quartiles = df.groupBy(\"Symbol\").agg(\n",
    "        expr(f\"percentile({column_name}, 0.25)\").alias(\"Q1\"),\n",
    "        expr(f\"percentile({column_name}, 0.75)\").alias(\"Q3\")\n",
    "    )\n",
    "    \n",
    "    # Calculate IQR and bounds\n",
    "    quartiles = quartiles.withColumn(\"IQR\", col(\"Q3\") - col(\"Q1\"))\n",
    "    quartiles = quartiles.withColumn(\"LowerBound\", col(\"Q1\") - 1.5 * col(\"IQR\"))\n",
    "    quartiles = quartiles.withColumn(\"UpperBound\", col(\"Q3\") + 1.5 * col(\"IQR\"))\n",
    "    \n",
    "    # Join back to main dataframe\n",
    "    df_with_bounds = df.join(quartiles.select(\"Symbol\", \"LowerBound\", \"UpperBound\"), \"Symbol\")\n",
    "    \n",
    "    # Flag outliers\n",
    "    outliers = df_with_bounds.filter(\n",
    "        (col(column_name) < col(\"LowerBound\")) | \n",
    "        (col(column_name) > col(\"UpperBound\"))\n",
    "    )\n",
    "    \n",
    "    return outliers\n",
    "\n",
    "# Detect outliers in volume\n",
    "volume_outliers = detect_outliers(combined_df, \"Volume\")\n",
    "print(f\"Volume outliers: {volume_outliers.count()} ({volume_outliers.count()/combined_df.count()*100:.2f}%)\")\n",
    "\n",
    "# Detect outliers in daily returns\n",
    "return_outliers = detect_outliers(combined_df.filter(col(\"DailyReturn\").isNotNull()), \"DailyReturn\")\n",
    "print(f\"Return outliers: {return_outliers.count()} ({return_outliers.count()/combined_df.filter(col('DailyReturn').isNotNull()).count()*100:.2f}%)\")\n",
    "\n",
    "# Sample some outliers to understand their nature\n",
    "print(\"Sample volume outliers:\")\n",
    "volume_outliers.select(\"Symbol\", \"Date\", \"Volume\", \"LowerBound\", \"UpperBound\").show(10)\n",
    "\n",
    "print(\"Sample return outliers:\")\n",
    "return_outliers.select(\"Symbol\", \"Date\", \"DailyReturn\", \"LowerBound\", \"UpperBound\").show(10)"
   ]
  },
  {
   "cell_type": "markdown",
   "metadata": {},
   "source": [
    "JSON Data Structure Analysis"
   ]
  },
  {
   "cell_type": "code",
   "execution_count": 7,
   "metadata": {},
   "outputs": [
    {
     "name": "stdout",
     "output_type": "stream",
     "text": [
      "JSON Structure Analysis:\n",
      "  Symbol                                     MetadataFields  \\\n",
      "0  FOJCY  [currency, symbol, exchangeName, instrumentTyp...   \n",
      "1      T  [currency, symbol, exchangeName, instrumentTyp...   \n",
      "2    PHM  [currency, symbol, exchangeName, instrumentTyp...   \n",
      "3    ADM  [currency, symbol, exchangeName, instrumentTyp...   \n",
      "4    RNA  [currency, symbol, exchangeName, instrumentTyp...   \n",
      "\n",
      "  AvailableIndicators  TimeseriesLength  QuoteDataPoints  \n",
      "0   [quote, adjclose]              3259             3259  \n",
      "1   [quote, adjclose]              9846             9846  \n",
      "2   [quote, adjclose]             10778            10778  \n",
      "3   [quote, adjclose]             10778            10778  \n",
      "4   [quote, adjclose]               631              631  \n",
      "\n",
      "Common metadata fields across JSON files: {'currentTradingPeriod', 'exchangeName', 'firstTradeDate', 'regularMarketTime', 'regularMarketPrice', 'timezone', 'chartPreviousClose', 'symbol', 'gmtoffset', 'instrumentType', 'exchangeTimezoneName', 'priceHint', 'range', 'validRanges', 'currency', 'dataGranularity'}\n",
      "\n",
      "Available indicator types in JSON files: {'adjclose', 'quote'}\n"
     ]
    }
   ],
   "source": [
    "# Path to JSON files\n",
    "json_path = \"data/stock_market_data/forbes2000/json/\"\n",
    "json_files = glob.glob(os.path.join(json_path, \"*.json\"))\n",
    "\n",
    "# Sample a few JSON files to understand their structure\n",
    "sample_json_files = json_files[:5]\n",
    "json_structures = []\n",
    "\n",
    "for file in sample_json_files:\n",
    "    ticker = os.path.basename(file).split('.')[0]\n",
    "    with open(file, 'r') as f:\n",
    "        data = json.load(f)\n",
    "    \n",
    "    # Extract metadata\n",
    "    try:\n",
    "        meta = data['chart']['result'][0]['meta']\n",
    "        indicators = data['chart']['result'][0]['indicators']\n",
    "        timestamps = data['chart']['result'][0]['timestamp']\n",
    "        \n",
    "        # Count available data points\n",
    "        quote_length = len(indicators['quote'][0]['close']) if 'quote' in indicators else 0\n",
    "        \n",
    "        # Extract available indicator types\n",
    "        available_indicators = list(indicators.keys())\n",
    "        \n",
    "        json_structures.append({\n",
    "            'Symbol': ticker,\n",
    "            'MetadataFields': list(meta.keys()),\n",
    "            'AvailableIndicators': available_indicators,\n",
    "            'TimeseriesLength': len(timestamps),\n",
    "            'QuoteDataPoints': quote_length\n",
    "        })\n",
    "    except (KeyError, IndexError) as e:\n",
    "        print(f\"Error analyzing {file}: {e}\")\n",
    "\n",
    "# Convert to DataFrame for analysis\n",
    "json_structure_df = pd.DataFrame(json_structures)\n",
    "print(\"JSON Structure Analysis:\")\n",
    "print(json_structure_df)\n",
    "\n",
    "# Analyze metadata fields across files\n",
    "all_metadata_fields = set()\n",
    "for fields in json_structure_df['MetadataFields']:\n",
    "    all_metadata_fields.update(fields)\n",
    "    \n",
    "print(f\"\\nCommon metadata fields across JSON files: {all_metadata_fields}\")\n",
    "\n",
    "# Analyze indicator types across files\n",
    "all_indicators = set()\n",
    "for indicators in json_structure_df['AvailableIndicators']:\n",
    "    all_indicators.update(indicators)\n",
    "    \n",
    "print(f\"\\nAvailable indicator types in JSON files: {all_indicators}\")"
   ]
  },
  {
   "cell_type": "code",
   "execution_count": 8,
   "metadata": {},
   "outputs": [
    {
     "name": "stdout",
     "output_type": "stream",
     "text": [
      "Basic statistics for JSON price data:\n",
      "               Open          High           Low         Close        Volume  \\\n",
      "count  35292.000000  35292.000000  35292.000000  35292.000000  3.529200e+04   \n",
      "mean      17.153682     17.488223     17.052797     17.273139  7.336812e+06   \n",
      "std       14.784774     14.825064     14.475348     14.652317  1.410614e+07   \n",
      "min        0.000000      0.156250      0.140625      0.144531  0.000000e+00   \n",
      "25%        4.580000      4.625000      4.545612      4.590000  7.729452e+05   \n",
      "50%       13.804985     13.991539     13.613767     13.809649  2.266462e+06   \n",
      "75%       26.230000     26.480000     25.915422     26.211502  5.819225e+06   \n",
      "max       98.709999     98.879997     96.849998     98.220001  3.270974e+08   \n",
      "\n",
      "           AdjClose  \n",
      "count  35292.000000  \n",
      "mean      11.722431  \n",
      "std       13.449199  \n",
      "min        0.102742  \n",
      "25%        2.314733  \n",
      "50%        6.739854  \n",
      "75%       17.583542  \n",
      "max       97.669998  \n",
      "\n",
      "JSON data density (non-null values):\n",
      "Symbol      1.0\n",
      "Date        1.0\n",
      "Open        1.0\n",
      "High        1.0\n",
      "Low         1.0\n",
      "Close       1.0\n",
      "Volume      1.0\n",
      "AdjClose    1.0\n",
      "dtype: float64\n"
     ]
    },
    {
     "data": {
      "image/png": "[encoded data removed]",
      "text/plain": [
       "<Figure size 1400x700 with 1 Axes>"
      ]
     },
     "metadata": {},
     "output_type": "display_data"
    }
   ],
   "source": [
    "def extract_json_price_data(json_file):\n",
    "    \"\"\"Extract detailed price data from JSON file\"\"\"\n",
    "    with open(json_file, 'r') as f:\n",
    "        data = json.load(f)\n",
    "    \n",
    "    try:\n",
    "        ticker = os.path.basename(json_file).split('.')[0]\n",
    "        result = data['chart']['result'][0]\n",
    "        meta = result['meta']\n",
    "        timestamps = result['timestamp']\n",
    "        \n",
    "        # Convert timestamps to dates\n",
    "        dates = [datetime.fromtimestamp(ts).strftime('%Y-%m-%d') for ts in timestamps]\n",
    "        \n",
    "        # Extract quote data\n",
    "        quotes = result['indicators']['quote'][0]\n",
    "        \n",
    "        # Create DataFrame with detailed price data\n",
    "        df = pd.DataFrame({\n",
    "            'Symbol': ticker,\n",
    "            'Date': dates,\n",
    "            'Open': quotes.get('open', [None] * len(dates)),\n",
    "            'High': quotes.get('high', [None] * len(dates)),\n",
    "            'Low': quotes.get('low', [None] * len(dates)),\n",
    "            'Close': quotes.get('close', [None] * len(dates)),\n",
    "            'Volume': quotes.get('volume', [None] * len(dates))\n",
    "        })\n",
    "        \n",
    "        # Add additional indicators if available\n",
    "        if 'adjclose' in result['indicators']:\n",
    "            df['AdjClose'] = result['indicators']['adjclose'][0].get('adjclose', [None] * len(dates))\n",
    "        \n",
    "        return df\n",
    "    except (KeyError, IndexError) as e:\n",
    "        print(f\"Error extracting price data from {json_file}: {e}\")\n",
    "        return None\n",
    "\n",
    "# Extract price data from sample JSON files\n",
    "json_price_dfs = []\n",
    "for file in sample_json_files:\n",
    "    price_df = extract_json_price_data(file)\n",
    "    if price_df is not None:\n",
    "        json_price_dfs.append(price_df)\n",
    "\n",
    "# Combine all price data\n",
    "combined_json_price_df = pd.concat(json_price_dfs, ignore_index=True)\n",
    "\n",
    "# Basic statistics for JSON price data\n",
    "print(\"Basic statistics for JSON price data:\")\n",
    "print(combined_json_price_df.describe())\n",
    "\n",
    "# Compare with CSV data density\n",
    "print(\"\\nJSON data density (non-null values):\")\n",
    "print(combined_json_price_df.count() / len(combined_json_price_df))\n",
    "\n",
    "# Visualize JSON price data granularity\n",
    "plt.figure(figsize=(14, 7))\n",
    "for ticker in combined_json_price_df['Symbol'].unique()[:3]:  # First 3 stocks\n",
    "    ticker_data = combined_json_price_df[combined_json_price_df['Symbol'] == ticker]\n",
    "    plt.plot(pd.to_datetime(ticker_data['Date']), ticker_data['Close'], label=ticker)\n",
    "\n",
    "plt.title('Closing Prices from JSON Data')\n",
    "plt.xlabel('Date')\n",
    "plt.ylabel('Price')\n",
    "plt.legend()\n",
    "plt.grid(True)\n",
    "plt.show()"
   ]
  },
  {
   "cell_type": "code",
   "execution_count": 9,
   "metadata": {},
   "outputs": [
    {
     "name": "stdout",
     "output_type": "stream",
     "text": [
      "Metadata Analysis:\n",
      "Unique exchanges: ['PNK' 'NYQ' 'NGM' 'NMS' 'YHD']\n",
      "Unique currencies: ['USD' None]\n",
      "Unique instrument types: ['EQUITY' 'MUTUALFUND']\n"
     ]
    },
    {
     "data": {
      "image/png": "[encoded data removed]",
      "text/plain": [
       "<Figure size 1200x600 with 1 Axes>"
      ]
     },
     "metadata": {},
     "output_type": "display_data"
    },
    {
     "data": {
      "image/png": "[encoded data removed]",
      "text/plain": [
       "<Figure size 1200x600 with 1 Axes>"
      ]
     },
     "metadata": {},
     "output_type": "display_data"
    }
   ],
   "source": [
    "def extract_metadata_features(json_file):\n",
    "    \"\"\"Extract valuable metadata features from JSON file\"\"\"\n",
    "    try:\n",
    "        with open(json_file, 'r') as f:\n",
    "            data = json.load(f)\n",
    "    except Exception as e:\n",
    "        print(f\"Error loading JSON file {json_file}: {e}\")\n",
    "        return None\n",
    "    \n",
    "    try:\n",
    "        ticker = os.path.basename(json_file).split('.')[0]\n",
    "        meta = data['chart']['result'][0]['meta']\n",
    "        \n",
    "        # Extract valuable metadata fields\n",
    "        metadata = {\n",
    "            'Symbol': ticker,\n",
    "            'Currency': meta.get('currency'),\n",
    "            'Exchange': meta.get('exchangeName'),\n",
    "            'InstrumentType': meta.get('instrumentType'),\n",
    "            'FirstTradeDate': meta.get('firstTradeDate'),\n",
    "            'RegularMarketPrice': meta.get('regularMarketPrice'),\n",
    "            'ChartPreviousClose': meta.get('chartPreviousClose'),\n",
    "            'PriceHint': meta.get('priceHint'),\n",
    "            'TimeZone': meta.get('timezone')\n",
    "        }\n",
    "        \n",
    "        # Extract any available trading periods\n",
    "        if 'tradingPeriods' in meta:\n",
    "            trading_periods = meta['tradingPeriods']\n",
    "            if trading_periods and len(trading_periods) > 0 and len(trading_periods[0]) > 0:\n",
    "                period = trading_periods[0][0]\n",
    "                metadata.update({\n",
    "                    'TradingStart': period.get('start'),\n",
    "                    'TradingEnd': period.get('end'),\n",
    "                    'TradingTimezone': period.get('timezone')\n",
    "                })\n",
    "        \n",
    "        # Extract current trading state if available\n",
    "        if 'currentTradingPeriod' in meta:\n",
    "            current = meta['currentTradingPeriod'].get('regular', {})\n",
    "            metadata.update({\n",
    "                'CurrentTradingStart': current.get('start'),\n",
    "                'CurrentTradingEnd': current.get('end')\n",
    "            })\n",
    "            \n",
    "        return metadata\n",
    "    except (KeyError, IndexError) as e:\n",
    "        print(f\"Error extracting metadata from {json_file}: {e}\")\n",
    "        return None\n",
    "\n",
    "# Extract metadata from all sample JSON files\n",
    "metadata_list = []\n",
    "for file in json_files[:20]:  # Analyze a reasonable sample\n",
    "    metadata = extract_metadata_features(file)\n",
    "    if metadata:\n",
    "        metadata_list.append(metadata)\n",
    "\n",
    "# Convert to DataFrame for analysis\n",
    "metadata_df = pd.DataFrame(metadata_list)\n",
    "\n",
    "# Analyze metadata distributions\n",
    "print(\"Metadata Analysis:\")\n",
    "print(f\"Unique exchanges: {metadata_df['Exchange'].unique()}\")\n",
    "print(f\"Unique currencies: {metadata_df['Currency'].unique()}\")\n",
    "print(f\"Unique instrument types: {metadata_df['InstrumentType'].unique()}\")\n",
    "\n",
    "# Distribution of stocks by exchange\n",
    "plt.figure(figsize=(12, 6))\n",
    "metadata_df['Exchange'].value_counts().plot(kind='bar')\n",
    "plt.title('Distribution of Stocks by Exchange')\n",
    "plt.xlabel('Exchange')\n",
    "plt.ylabel('Count')\n",
    "plt.xticks(rotation=45)\n",
    "plt.tight_layout()\n",
    "plt.show()\n",
    "\n",
    "# Analyze first trade dates\n",
    "if 'FirstTradeDate' in metadata_df.columns:\n",
    "    plt.figure(figsize=(12, 6))\n",
    "    pd.to_datetime(metadata_df['FirstTradeDate'], unit='s').dt.year.value_counts().sort_index().plot(kind='bar')\n",
    "    plt.title('Distribution of Stocks by First Trading Year')\n",
    "    plt.xlabel('Year')\n",
    "    plt.ylabel('Count')\n",
    "    plt.tight_layout()\n",
    "    plt.show()"
   ]
  },
  {
   "cell_type": "markdown",
   "metadata": {},
   "source": [
    "## 2. Define the outcome (i.e., the evaluation metric and the target) precisely, including mathematical formulas."
   ]
  },
  {
   "cell_type": "markdown",
   "metadata": {},
   "source": [
    "#### Target variables for stock price forecasting\n",
    "\n",
    "For stock price forecasting, we need to carefully select our target variables based on both theoretical considerations and practical applications. Here are the refined target variables we'll use:\n",
    "\n",
    "1. **Next-Day Return** (Target_Return_1d)\n",
    "\n",
    "   - Definition: The percentage change in price from today's close to tomorrow's close\n",
    "\n",
    "   - Formula: $(Close_{t+1} - Close_t) / Close_t$\n",
    "\n",
    "   - Rationale: Returns are stationary and comparable across different stocks, making them better prediction targets than raw prices\n",
    "\n",
    "2. **Next-Week Return** (Target_Return_1d)\n",
    "\n",
    "   - Definition: The percentage change in price from today's close to next week's close\n",
    "\n",
    "   - Formula: $(Close_{t+7} - Close_t) / Close_t$\n",
    "\n",
    "   - Rationale: Returns are stationary and comparable across different stocks, making them better prediction targets than raw prices\n",
    "\n",
    "2. **Next-Month Return** (Target_Return_1d)\n",
    "\n",
    "   - Definition: The percentage change in price from today's close to next month's close\n",
    "\n",
    "   - Formula: $(Close_{t+30} - Close_t) / Close_t$\n",
    "\n",
    "   - Rationale: Returns are stationary and comparable across different stocks, making them better prediction targets than raw prices\n",
    "\n",
    "\n",
    "For the three target, each has its own meaning and representation and we shall discover the usage and result of different evaluation metric."
   ]
  },
  {
   "cell_type": "markdown",
   "metadata": {},
   "source": [
    "## 3. How do you ingest the data files and represent them efficiently? (think about different file formats)\n",
    "\n",
    "We will save the data into pyspark checkpoints. If necessary, we should store them in H5 files."
   ]
  },
  {
   "cell_type": "markdown",
   "metadata": {},
   "source": [
    "## 4. Summarized relevant datasets\n",
    "\n",
    "Describe what tables to join\n",
    "\n",
    "Describe the workflow for achieving the joins (what are the keys, type of join)\n",
    "\n",
    "Steps to deal with potential missing values\n",
    "\n",
    "### Tables to Join\n",
    "\n",
    "Our stock market dataset consists of two primary data sources that need to be integrated:\n",
    "\n",
    "1. **CSV Files** - Contains daily trading data with core price and volume information:\n",
    "   - Basic trading data (Date, Open, High, Low, Close, Volume, Adjusted Close)\n",
    "   - One file per stock ticker\n",
    "   - Consistent format across all stocks\n",
    "\n",
    "2. **JSON Files** - Contains metadata and extended information:\n",
    "   - Stock-specific metadata (currency, exchange, instrument type, etc.)\n",
    "   - Additional price indicators (may include adjusted close values)\n",
    "   - Trading period information\n",
    "   - One file per stock ticker (potentially subset of tickers in CSV files)\n",
    "\n",
    "### Join Workflow\n",
    "\n",
    "The data integration follows this process:\n",
    "\n",
    "1. **Stock-by-Stock Processing**:\n",
    "   - Process each CSV file individually\n",
    "   - Extract symbol (ticker) from filename\n",
    "   - For each stock, look up if corresponding JSON file exists\n",
    "\n",
    "2. **JSON Metadata Integration**:\n",
    "   - **Join Type**: Left join between CSV data and JSON metadata\n",
    "   - **Join Key**: Stock symbol/ticker\n",
    "   - **Implementation**: For each CSV DataFrame, JSON metadata is added as additional columns\n",
    "   - This preserves all CSV data while enriching with JSON metadata when available\n",
    "\n",
    "3. **Dataset Unification**:\n",
    "   - Combine all individual stock DataFrames using `unionByName`\n",
    "   - Allow missing columns with `allowMissingColumns=True` to handle schema variations\n",
    "   - Process in batches to manage memory requirements\n",
    "\n",
    "### Missing Value Handling\n",
    "\n",
    "Multiple strategies are implemented to address missing values:\n",
    "\n",
    "1. **Critical Data Validation**:\n",
    "   - Rows with null dates or missing core price data (Open, Close) are removed\n",
    "   - Extreme outliers in returns (>±50%) are filtered as likely errors\n",
    "\n",
    "2. **Technical Indicators**:\n",
    "   - Missing values in derived features are filled with 0\n",
    "   - This addresses nulls from calculation windows (e.g., first N days of moving averages)\n",
    "\n",
    "3. **Metadata Fields**:\n",
    "   - Non-critical columns (those not part of core price/volume data) have nulls filled with appropriate defaults\n",
    "   - JSON metadata fields may not exist for all tickers, so they are selectively added\n",
    "\n",
    "4. **Batch Processing Approach**:\n",
    "   - DataFrames are processed and checkpointed in batches\n",
    "   - This allows handling large datasets that might not fit in memory\n",
    "   - Each batch is saved as a parquet file before final combination\n",
    "\n",
    "This approach balances data completeness with quality, ensuring we maintain essential trading information while maximizing the available features for analysis and model training."
   ]
  },
  {
   "cell_type": "code",
   "execution_count": 10,
   "metadata": {},
   "outputs": [],
   "source": [
    "def process_all_stock_data(csv_files, json_files, sample_size=None):\n",
    "    \"\"\"\n",
    "    Process all stock data from both CSV and JSON files\n",
    "    \n",
    "    Args:\n",
    "        csv_files: List of CSV file paths\n",
    "        json_files: List of JSON file paths\n",
    "        sample_size: Optional number of files to process (for testing)\n",
    "    \n",
    "    Returns:\n",
    "        A PySpark DataFrame with combined data\n",
    "    \"\"\"\n",
    "    # Limit sample size if specified\n",
    "    if sample_size:\n",
    "        csv_files = csv_files[:sample_size]\n",
    "        json_files = json_files[:sample_size]\n",
    "    \n",
    "    # Create a mapping of ticker to JSON file for quick lookup\n",
    "    json_lookup = {os.path.basename(file).split('.')[0]: file for file in json_files}\n",
    "    \n",
    "    # Schema for CSV files\n",
    "    csv_schema = StructType([\n",
    "        StructField(\"Date\", StringType(), True),\n",
    "        StructField(\"Low\", DoubleType(), True),\n",
    "        StructField(\"Open\", DoubleType(), True),\n",
    "        StructField(\"Volume\", IntegerType(), True),\n",
    "        StructField(\"High\", DoubleType(), True),\n",
    "        StructField(\"Close\", DoubleType(), True),\n",
    "        StructField(\"Adjusted_Close\", DoubleType(), True)\n",
    "    ])\n",
    "    \n",
    "    # Process each CSV file and enrich with JSON data\n",
    "    all_data = []\n",
    "    for csv_file in csv_files:\n",
    "        ticker = os.path.basename(csv_file).split('.')[0]\n",
    "        \n",
    "        # Read CSV data\n",
    "        csv_df = spark.read.csv(csv_file, header=True, schema=csv_schema)\n",
    "        csv_df = csv_df.withColumn(\"Symbol\", lit(ticker))\n",
    "        csv_df = csv_df.withColumn(\"Date\", to_date(col(\"Date\"), \"dd-MM-yyyy\"))\n",
    "        \n",
    "        # If we have JSON data for this ticker, extract metadata\n",
    "        if ticker in json_lookup:\n",
    "            json_meta = extract_metadata_features(json_lookup[ticker])\n",
    "            \n",
    "            if json_meta:\n",
    "                # Add metadata as columns\n",
    "                for key, value in json_meta.items():\n",
    "                    if key != 'symbol':  # Symbol is already added\n",
    "                        csv_df = csv_df.withColumn(key, lit(value))\n",
    "        \n",
    "        all_data.append(csv_df)\n",
    "    \n",
    "    # Combine all DataFrames\n",
    "    if all_data:\n",
    "        combined_df = all_data[0]\n",
    "        for df in all_data[1:]:\n",
    "            combined_df = combined_df.unionByName(df, allowMissingColumns=True)\n",
    "        \n",
    "        return combined_df\n",
    "    else:\n",
    "        return None\n"
   ]
  },
  {
   "cell_type": "code",
   "execution_count": 11,
   "metadata": {},
   "outputs": [],
   "source": [
    "def create_comprehensive_targets(df):\n",
    "    \"\"\"Create comprehensive set of target variables\"\"\"\n",
    "    # Define window specifications for future calculations\n",
    "    window_by_stock = Window.partitionBy(\"Symbol\").orderBy(\"Date\")\n",
    "    \n",
    "    # Add future close prices\n",
    "    for days in [1, 5, 10, 21]:\n",
    "        df = df.withColumn(f\"FutureClose_{days}d\", lead(\"Close\", days).over(window_by_stock))\n",
    "    \n",
    "    # Calculate return targets\n",
    "    for days in [1, 5, 10, 21]:\n",
    "        df = df.withColumn(\n",
    "            f\"Target_Return_{days}d\", \n",
    "            (col(f\"FutureClose_{days}d\") - col(\"Close\")) / col(\"Close\")\n",
    "        )\n",
    "        \n",
    "        # Add direction targets (binary classification)\n",
    "        df = df.withColumn(\n",
    "            f\"Target_Direction_{days}d\",\n",
    "            when(col(f\"Target_Return_{days}d\") > 0, 1).otherwise(0)\n",
    "        )\n",
    "    \n",
    "    # Calculate volatility targets\n",
    "    # For 5-day volatility, we need the daily returns for the next 5 days\n",
    "    for i in range(1, 6):\n",
    "        df = df.withColumn(\n",
    "            f\"Return_next_{i}d\", \n",
    "            lead(col(\"Return\"), i).over(window_by_stock)\n",
    "        )\n",
    "    \n",
    "    # First calculate the average of the next 5 days' returns\n",
    "    df = df.withColumn(\n",
    "        \"Avg_Next_5d_Returns\",\n",
    "        (col(\"Return_next_1d\") + col(\"Return_next_2d\") + col(\"Return_next_3d\") + \n",
    "         col(\"Return_next_4d\") + col(\"Return_next_5d\")) / 5\n",
    "    )\n",
    "    \n",
    "    # Then calculate the volatility as the standard deviation\n",
    "    df = df.withColumn(\n",
    "        \"Target_Volatility_5d\",\n",
    "        sqrt(\n",
    "            (pow(col(\"Return_next_1d\") - col(\"Avg_Next_5d_Returns\"), 2) +\n",
    "             pow(col(\"Return_next_2d\") - col(\"Avg_Next_5d_Returns\"), 2) +\n",
    "             pow(col(\"Return_next_3d\") - col(\"Avg_Next_5d_Returns\"), 2) +\n",
    "             pow(col(\"Return_next_4d\") - col(\"Avg_Next_5d_Returns\"), 2) +\n",
    "             pow(col(\"Return_next_5d\") - col(\"Avg_Next_5d_Returns\"), 2)) / 5\n",
    "        )\n",
    "    )\n",
    "    \n",
    "    # Add extreme movement targets (> 2%, > 5%)\n",
    "    # Import the correct abs function from pyspark.sql.functions\n",
    "    from pyspark.sql.functions import abs as spark_abs\n",
    "    \n",
    "    for days in [1, 5]:\n",
    "        df = df.withColumn(\n",
    "            f\"Target_ExtMove2pct_{days}d\",\n",
    "            when(spark_abs(col(f\"Target_Return_{days}d\")) > 0.02, 1).otherwise(0)\n",
    "        )\n",
    "        df = df.withColumn(\n",
    "            f\"Target_ExtMove5pct_{days}d\",\n",
    "            when(spark_abs(col(f\"Target_Return_{days}d\")) > 0.05, 1).otherwise(0)\n",
    "        )\n",
    "    \n",
    "    return df"
   ]
  },
  {
   "cell_type": "code",
   "execution_count": 12,
   "metadata": {},
   "outputs": [],
   "source": [
    "def add_technical_features(df):\n",
    "    \"\"\"\n",
    "    Add technical indicators and features to the stock data DataFrame\n",
    "    \n",
    "    Args:\n",
    "        df: PySpark DataFrame with stock price data\n",
    "    \n",
    "    Returns:\n",
    "        PySpark DataFrame with additional features\n",
    "    \"\"\"\n",
    "    # Define window specifications for different periods\n",
    "    window_by_stock = Window.partitionBy(\"Symbol\").orderBy(\"Date\")\n",
    "    window_7d = Window.partitionBy(\"Symbol\").orderBy(\"Date\").rowsBetween(-7, 0)\n",
    "    window_14d = Window.partitionBy(\"Symbol\").orderBy(\"Date\").rowsBetween(-14, 0)\n",
    "    window_30d = Window.partitionBy(\"Symbol\").orderBy(\"Date\").rowsBetween(-30, 0)\n",
    "    window_90d = Window.partitionBy(\"Symbol\").orderBy(\"Date\").rowsBetween(-90, 0)\n",
    "    \n",
    "    # Add basic features\n",
    "    enhanced_df = df \\\n",
    "        .withColumn(\"PrevClose\", lag(\"Close\", 1).over(window_by_stock)) \\\n",
    "        .withColumn(\"Return\", (col(\"Close\") - col(\"PrevClose\")) / col(\"PrevClose\")) \\\n",
    "        .withColumn(\"LogReturn\", log(col(\"Close\") / col(\"PrevClose\")))\n",
    "    \n",
    "    # Add moving averages\n",
    "    enhanced_df = enhanced_df \\\n",
    "        .withColumn(\"MA7\", avg(\"Close\").over(window_7d)) \\\n",
    "        .withColumn(\"MA30\", avg(\"Close\").over(window_30d)) \\\n",
    "        .withColumn(\"MA90\", avg(\"Close\").over(window_90d))\n",
    "    \n",
    "    # Add price relative to moving averages\n",
    "    enhanced_df = enhanced_df \\\n",
    "        .withColumn(\"Close_MA7_Ratio\", col(\"Close\") / col(\"MA7\")) \\\n",
    "        .withColumn(\"Close_MA30_Ratio\", col(\"Close\") / col(\"MA30\")) \\\n",
    "        .withColumn(\"MA7_MA30_Ratio\", col(\"MA7\") / col(\"MA30\"))\n",
    "    \n",
    "    # Add volatility indicators\n",
    "    enhanced_df = enhanced_df \\\n",
    "        .withColumn(\"STD7\", stddev(\"Close\").over(window_7d)) \\\n",
    "        .withColumn(\"STD30\", stddev(\"Close\").over(window_30d)) \\\n",
    "        .withColumn(\"VolatilityRatio\", col(\"STD7\") / col(\"STD30\"))\n",
    "    \n",
    "    # Add range and momentum indicators\n",
    "    enhanced_df = enhanced_df \\\n",
    "        .withColumn(\"HighLowRange\", col(\"High\") - col(\"Low\")) \\\n",
    "        .withColumn(\"HighLowRangeRatio\", col(\"HighLowRange\") / col(\"Close\")) \\\n",
    "        .withColumn(\"CloseDelta\", col(\"Close\") - col(\"Open\")) \\\n",
    "        .withColumn(\"CloseOpenRatio\", col(\"Close\") / col(\"Open\"))\n",
    "    \n",
    "    # Add volume indicators\n",
    "    enhanced_df = enhanced_df \\\n",
    "        .withColumn(\"VolumeDelta\", col(\"Volume\") - lag(\"Volume\", 1).over(window_by_stock)) \\\n",
    "        .withColumn(\"VolumeMA7\", avg(\"Volume\").over(window_7d)) \\\n",
    "        .withColumn(\"VolumeMA30\", avg(\"Volume\").over(window_30d)) \\\n",
    "        .withColumn(\"RelativeVolume\", col(\"Volume\") / col(\"VolumeMA30\")) \\\n",
    "        .withColumn(\"MoneyFlow\", col(\"Volume\") * (col(\"Close\") - col(\"Open\")))\n",
    "    \n",
    "    # Add high/low indicators\n",
    "    enhanced_df = enhanced_df \\\n",
    "        .withColumn(\"MaxHigh7\", max(\"High\").over(window_7d)) \\\n",
    "        .withColumn(\"MinLow7\", min(\"Low\").over(window_7d)) \\\n",
    "        .withColumn(\"MaxHigh30\", max(\"High\").over(window_30d)) \\\n",
    "        .withColumn(\"MinLow30\", min(\"Low\").over(window_30d))\n",
    "    \n",
    "    # Calculate positions relative to ranges\n",
    "    enhanced_df = enhanced_df \\\n",
    "        .withColumn(\"CloseToHighPos7\", (col(\"Close\") - col(\"MinLow7\")) / (col(\"MaxHigh7\") - col(\"MinLow7\"))) \\\n",
    "        .withColumn(\"CloseToHighPos30\", (col(\"Close\") - col(\"MinLow30\")) / (col(\"MaxHigh30\") - col(\"MinLow30\")))\n",
    "    \n",
    "    # Add RSI (14-day)\n",
    "    enhanced_df = enhanced_df \\\n",
    "        .withColumn(\"UpMove\", when(col(\"Close\") > lag(\"Close\", 1).over(window_by_stock), \n",
    "                                  col(\"Close\") - lag(\"Close\", 1).over(window_by_stock)).otherwise(0)) \\\n",
    "        .withColumn(\"DownMove\", when(col(\"Close\") < lag(\"Close\", 1).over(window_by_stock), \n",
    "                                    lag(\"Close\", 1).over(window_by_stock) - col(\"Close\")).otherwise(0)) \\\n",
    "        .withColumn(\"AvgUp14\", avg(\"UpMove\").over(window_14d)) \\\n",
    "        .withColumn(\"AvgDown14\", avg(\"DownMove\").over(window_14d)) \\\n",
    "        .withColumn(\"RS\", col(\"AvgUp14\") / when(col(\"AvgDown14\") == 0, 0.001).otherwise(col(\"AvgDown14\"))) \\\n",
    "        .withColumn(\"RSI\", 100 - (100 / (1 + col(\"RS\"))))\n",
    "    \n",
    "    # Return the enhanced DataFrame\n",
    "    return enhanced_df"
   ]
  },
  {
   "cell_type": "code",
   "execution_count": 13,
   "metadata": {},
   "outputs": [],
   "source": [
    "def clean_and_handle_missing_values(df):\n",
    "    \"\"\"\n",
    "    Clean data and handle missing values\n",
    "    \n",
    "    Args:\n",
    "        df: PySpark DataFrame with features\n",
    "    \n",
    "    Returns:\n",
    "        Cleaned PySpark DataFrame\n",
    "    \"\"\"\n",
    "    # Count rows before cleaning\n",
    "    initial_count = df.count()\n",
    "    print(f\"Initial row count: {initial_count}\")\n",
    "    \n",
    "    # Remove rows with null dates or missing basic price data\n",
    "    cleaned_df = df.filter(\n",
    "        col(\"Date\").isNotNull() &\n",
    "        col(\"Close\").isNotNull() &\n",
    "        col(\"Open\").isNotNull()\n",
    "    )\n",
    "    \n",
    "    # Count rows after removing null essential data\n",
    "    basic_cleaned_count = cleaned_df.count()\n",
    "    print(f\"Rows after basic cleaning: {basic_cleaned_count} ({basic_cleaned_count/initial_count:.2%} of original)\")\n",
    "    \n",
    "    # For engineered features, we have several options:\n",
    "    # 1. Drop rows with any nulls (strict but could lose a lot of data)\n",
    "    # 2. Fill nulls with defaults (0, mean, etc.)\n",
    "    # 3. Use more sophisticated imputation\n",
    "    \n",
    "    # Option 2: Fill nulls with appropriate defaults\n",
    "    # For ratio and technical indicators, nulls often come from calculation windows\n",
    "    # Fill numeric columns with 0 where appropriate\n",
    "    numeric_cols = [f.name for f in cleaned_df.schema.fields \n",
    "                   if isinstance(f.dataType, (DoubleType, IntegerType)) \n",
    "                   and f.name not in [\"Open\", \"High\", \"Low\", \"Close\", \"Volume\", \"Adjusted_Close\"]]\n",
    "    \n",
    "    # Fill missing values in derived features\n",
    "    for col_name in numeric_cols:\n",
    "        cleaned_df = cleaned_df.withColumn(\n",
    "            col_name, \n",
    "            when(col(col_name).isNull(), 0).otherwise(col(col_name))\n",
    "        )\n",
    "    \n",
    "    # Remove rows with extreme outliers in returns\n",
    "    # Filter out extreme values that are likely data errors\n",
    "    cleaned_df = cleaned_df.filter(\n",
    "        (col(\"Return\").isNull()) | \n",
    "        (abs(col(\"Return\")) < 0.5)  # Filter returns > ±50% as likely errors\n",
    "    )\n",
    "    \n",
    "    # Count rows after all cleaning\n",
    "    final_count = cleaned_df.count()\n",
    "    print(f\"Final row count: {final_count} ({final_count/initial_count:.2%} of original)\")\n",
    "    \n",
    "    return cleaned_df"
   ]
  },
  {
   "cell_type": "code",
   "execution_count": 14,
   "metadata": {},
   "outputs": [
    {
     "name": "stdout",
     "output_type": "stream",
     "text": [
      "Processing 200 stocks...\n",
      "Processing stock 1/200: CSCO\n",
      "Processing stock 51/200: CS\n",
      "Combining 100 processed stocks...\n"
     ]
    },
    {
     "name": "stderr",
     "output_type": "stream",
     "text": [
      "                                                                                \r"
     ]
    },
    {
     "name": "stdout",
     "output_type": "stream",
     "text": [
      "Saved intermediate batch to processed_data/stocks_batch_0\n",
      "Processing stock 101/200: IHCPF\n",
      "Processing stock 151/200: LNG\n",
      "Combining 100 processed stocks...\n"
     ]
    },
    {
     "name": "stderr",
     "output_type": "stream",
     "text": [
      "                                                                                \r"
     ]
    },
    {
     "name": "stdout",
     "output_type": "stream",
     "text": [
      "Saved intermediate batch to processed_data/stocks_batch_1\n",
      "Processing complete. Final steps...\n"
     ]
    },
    {
     "name": "stderr",
     "output_type": "stream",
     "text": [
      "25/03/16 11:19:36 WARN SparkStringUtils: Truncated the string representation of a plan since it was too large. This behavior can be adjusted by setting 'spark.sql.debug.maxToStringFields'.\n",
      "[Stage 77:===================================================>    (12 + 1) / 13]\r"
     ]
    },
    {
     "name": "stdout",
     "output_type": "stream",
     "text": [
      "Saved final processed dataset to processed_data/full_processed_data\n"
     ]
    },
    {
     "name": "stderr",
     "output_type": "stream",
     "text": [
      "                                                                                \r"
     ]
    }
   ],
   "source": [
    "def process_full_dataset(csv_dir, json_dir, output_dir, sample_size=None):\n",
    "    \"\"\"\n",
    "    Process the entire stock market dataset with both CSV and JSON data\n",
    "    \n",
    "    Args:\n",
    "        csv_dir: Directory containing CSV files\n",
    "        json_dir: Directory containing JSON files\n",
    "        output_dir: Directory to save processed data\n",
    "        sample_size: Optional limit to number of stocks to process\n",
    "    \"\"\"\n",
    "    # Get list of files\n",
    "    csv_files = glob.glob(os.path.join(csv_dir, \"*.csv\"))\n",
    "    json_files = glob.glob(os.path.join(json_dir, \"*.json\"))\n",
    "    \n",
    "    # Create lookup for JSON files by ticker\n",
    "    json_lookup = {os.path.basename(f).split('.')[0]: f for f in json_files}\n",
    "    \n",
    "    # Limit sample size if specified\n",
    "    if sample_size:\n",
    "        csv_files = csv_files[:sample_size]\n",
    "    \n",
    "    print(f\"Processing {len(csv_files)} stocks...\")\n",
    "    \n",
    "    # Schema for CSV files\n",
    "    csv_schema = StructType([\n",
    "        StructField(\"Date\", StringType(), True),\n",
    "        StructField(\"Low\", DoubleType(), True),\n",
    "        StructField(\"Open\", DoubleType(), True),\n",
    "        StructField(\"Volume\", IntegerType(), True),\n",
    "        StructField(\"High\", DoubleType(), True),\n",
    "        StructField(\"Close\", DoubleType(), True),\n",
    "        StructField(\"Adjusted Close\", DoubleType(), True)\n",
    "    ])\n",
    "    \n",
    "    # Process each stock\n",
    "    processed_dfs = []\n",
    "    \n",
    "    for i, csv_file in enumerate(csv_files):\n",
    "        ticker = os.path.basename(csv_file).split('.')[0]\n",
    "        \n",
    "        if i % 50 == 0:\n",
    "            print(f\"Processing stock {i+1}/{len(csv_files)}: {ticker}\")\n",
    "        \n",
    "        try:\n",
    "            # Read CSV data\n",
    "            stock_df = spark.read.csv(csv_file, header=True, schema=csv_schema)\n",
    "            stock_df = stock_df.withColumn(\"Symbol\", lit(ticker))\n",
    "            stock_df = stock_df.withColumn(\"Date\", to_date(col(\"Date\"), \"dd-MM-yyyy\"))\n",
    "            \n",
    "            # Add JSON metadata if available\n",
    "            if ticker in json_lookup:\n",
    "                with open(json_lookup[ticker], 'r') as f:\n",
    "                    json_data = json.load(f)\n",
    "                \n",
    "                try:\n",
    "                    meta = json_data['chart']['result'][0]['meta']\n",
    "                    json_features = {\n",
    "                        \"currency\": meta.get(\"currency\"),\n",
    "                        \"exchange\": meta.get(\"exchangeName\"),\n",
    "                        \"instrumentType\": meta.get(\"instrumentType\"),\n",
    "                        \"firstTradeDate\": meta.get(\"firstTradeDate\"),\n",
    "                        \"priceHint\": meta.get(\"priceHint\"),\n",
    "                        \"timezone\": meta.get(\"timezone\")\n",
    "                    }\n",
    "                    \n",
    "                    # Add JSON features as columns\n",
    "                    for feature, value in json_features.items():\n",
    "                        if value is not None:\n",
    "                            stock_df = stock_df.withColumn(feature, lit(value))\n",
    "                \n",
    "                except (KeyError, IndexError) as e:\n",
    "                    print(f\"Error extracting JSON data for {ticker}: {e}\")\n",
    "            \n",
    "            # Add to list of processed DataFrames\n",
    "            processed_dfs.append(stock_df)\n",
    "            \n",
    "            # Periodically combine and checkpoint\n",
    "            if len(processed_dfs) >= 100 or i == len(csv_files) - 1:\n",
    "                print(f\"Combining {len(processed_dfs)} processed stocks...\")\n",
    "                \n",
    "                # Combine processed DataFrames\n",
    "                if processed_dfs:\n",
    "                    combined_df = processed_dfs[0]\n",
    "                    for df in processed_dfs[1:]:\n",
    "                        combined_df = combined_df.unionByName(df, allowMissingColumns=True)\n",
    "                    \n",
    "                    # Fill nulls in non-critical columns\n",
    "                    for col_name in combined_df.columns:\n",
    "                        if col_name not in [\"Date\", \"Symbol\", \"Open\", \"High\", \"Low\", \"Close\", \"Volume\"]:\n",
    "                            combined_df = combined_df.fillna(0, subset=[col_name])\n",
    "                    \n",
    "                    # Save intermediate result\n",
    "                    checkpoint_path = f\"{output_dir}/stocks_batch_{i//100}\"\n",
    "                    combined_df.write.parquet(checkpoint_path, mode=\"overwrite\")\n",
    "                    print(f\"Saved intermediate batch to {checkpoint_path}\")\n",
    "                    \n",
    "                    # Clear list\n",
    "                    processed_dfs = []\n",
    "        \n",
    "        except Exception as e:\n",
    "            print(f\"Error processing {ticker}: {e}\")\n",
    "    \n",
    "    print(\"Processing complete. Final steps...\")\n",
    "    \n",
    "    # Combine all checkpointed batches\n",
    "    all_batches = glob.glob(os.path.join(output_dir, \"stocks_batch_*\"))\n",
    "    if all_batches:\n",
    "        final_df = spark.read.parquet(all_batches[0])\n",
    "        for batch_path in all_batches[1:]:\n",
    "            batch_df = spark.read.parquet(batch_path)\n",
    "            final_df = final_df.unionByName(batch_df, allowMissingColumns=True)\n",
    "        \n",
    "        # Add features and targets\n",
    "        final_df = add_technical_features(final_df)\n",
    "        final_df = create_comprehensive_targets(final_df)\n",
    "        \n",
    "        # Save final result\n",
    "        final_path = f\"{output_dir}/full_processed_data\"\n",
    "        final_df.write.parquet(final_path, mode=\"overwrite\")\n",
    "        print(f\"Saved final processed dataset to {final_path}\")\n",
    "        \n",
    "        return final_df\n",
    "    else:\n",
    "        print(\"No data batches found!\")\n",
    "        return None\n",
    "\n",
    "# Example usage (commented out to avoid execution)\n",
    "final_dataset = process_full_dataset(\n",
    "    csv_dir=\"data/stock_market_data/forbes2000/csv\",\n",
    "    json_dir=\"data/stock_market_data/forbes2000/json\",\n",
    "    output_dir=\"processed_data\",\n",
    "    sample_size=200  # Process first 200 files\n",
    ")"
   ]
  },
  {
   "cell_type": "code",
   "execution_count": 15,
   "metadata": {},
   "outputs": [
    {
     "name": "stderr",
     "output_type": "stream",
     "text": [
      "[Stage 90:=====================================>                (83 + 13) / 120]\r"
     ]
    },
    {
     "name": "stdout",
     "output_type": "stream",
     "text": [
      "Training set: 3513637 rows (69.99%)\n",
      "Validation set: 1003971 rows (20.00%)\n",
      "Test set: 502533 rows (10.01%)\n"
     ]
    },
    {
     "name": "stderr",
     "output_type": "stream",
     "text": [
      "                                                                                \r"
     ]
    }
   ],
   "source": [
    "def create_train_validation_test_splits_optimized(df, train_ratio=0.7, validation_ratio=0.2):\n",
    "    \"\"\"\n",
    "    Split the data into training, validation, and test sets while preserving time order\n",
    "    using a more efficient approach with window functions\n",
    "    \"\"\"\n",
    "    # Create a window spec partitioned by Symbol and ordered by Date\n",
    "    window_spec = Window.partitionBy(\"Symbol\").orderBy(\"Date\")\n",
    "    \n",
    "    # Add row numbers and total counts for each stock\n",
    "    df_with_index = df.withColumn(\"row_num\", row_number().over(window_spec))\n",
    "    df_with_index = df_with_index.withColumn(\n",
    "        \"total_rows\", \n",
    "        count(\"*\").over(Window.partitionBy(\"Symbol\"))\n",
    "    )\n",
    "    \n",
    "    # Calculate percentile position for each row\n",
    "    df_with_index = df_with_index.withColumn(\n",
    "        \"percentile\", \n",
    "        col(\"row_num\") / col(\"total_rows\")\n",
    "    )\n",
    "    \n",
    "    # Assign to splits based on percentile position\n",
    "    split_df = df_with_index.withColumn(\n",
    "        \"split\",\n",
    "        when(col(\"percentile\") <= train_ratio, \"train\")\n",
    "        .when(col(\"percentile\") <= train_ratio + validation_ratio, \"validation\")\n",
    "        .otherwise(\"test\")\n",
    "    )\n",
    "    \n",
    "    # Create the three separate dataframes\n",
    "    train_df = split_df.filter(col(\"split\") == \"train\").drop(\"row_num\", \"total_rows\", \"percentile\", \"split\")\n",
    "    val_df = split_df.filter(col(\"split\") == \"validation\").drop(\"row_num\", \"total_rows\", \"percentile\", \"split\")\n",
    "    test_df = split_df.filter(col(\"split\") == \"test\").drop(\"row_num\", \"total_rows\", \"percentile\", \"split\")\n",
    "    \n",
    "    # Print split sizes\n",
    "    train_count = train_df.count()\n",
    "    val_count = val_df.count()\n",
    "    test_count = test_df.count()\n",
    "    total = train_count + val_count + test_count\n",
    "    \n",
    "    print(f\"Training set: {train_count} rows ({train_count/total:.2%})\")\n",
    "    print(f\"Validation set: {val_count} rows ({val_count/total:.2%})\")\n",
    "    print(f\"Test set: {test_count} rows ({test_count/total:.2%})\")\n",
    "    \n",
    "    return train_df, val_df, test_df\n",
    "\n",
    "# Create splits using the optimized function\n",
    "train_df, val_df, test_df = create_train_validation_test_splits_optimized(final_dataset)\n",
    "\n"
   ]
  },
  {
   "cell_type": "code",
   "execution_count": 16,
   "metadata": {},
   "outputs": [
    {
     "name": "stderr",
     "output_type": "stream",
     "text": [
      "                                                                                \r"
     ]
    },
    {
     "name": "stdout",
     "output_type": "stream",
     "text": [
      "+----------+----------+\n",
      "| min(Date)| max(Date)|\n",
      "+----------+----------+\n",
      "|1999-11-18|2016-01-12|\n",
      "+----------+----------+\n",
      "\n",
      "+----------+----------+\n",
      "| min(Date)| max(Date)|\n",
      "+----------+----------+\n",
      "|2016-01-13|2020-08-21|\n",
      "+----------+----------+\n",
      "\n",
      "+----------+----------+\n",
      "| min(Date)| max(Date)|\n",
      "+----------+----------+\n",
      "|2020-08-24|2022-12-12|\n",
      "+----------+----------+\n",
      "\n"
     ]
    }
   ],
   "source": [
    "# Verify there's no data leakage by checking date of specific stock, for example, AAPL, checkt the min and max date of the training, validation and test set\n",
    "train_df.filter(col(\"Symbol\") == \"A\").select(min(\"Date\"), max(\"Date\")).show()\n",
    "val_df.filter(col(\"Symbol\") == \"A\").select(min(\"Date\"), max(\"Date\")).show()\n",
    "test_df.filter(col(\"Symbol\") == \"A\").select(min(\"Date\"), max(\"Date\")).show()"
   ]
  },
  {
   "cell_type": "code",
   "execution_count": 17,
   "metadata": {},
   "outputs": [],
   "source": [
    "def clean_and_handle_missing_values_improved(df):\n",
    "    \"\"\"\n",
    "    Clean data and handle missing values with improved approach\n",
    "    \n",
    "    Args:\n",
    "        df: PySpark DataFrame with features\n",
    "    \n",
    "    Returns:\n",
    "        Cleaned PySpark DataFrame\n",
    "    \"\"\"\n",
    "    # Count rows before cleaning\n",
    "    initial_count = df.count()\n",
    "    print(f\"Initial row count: {initial_count}\")\n",
    "    \n",
    "    # Check null counts in essential columns\n",
    "    null_counts = {}\n",
    "    for column in [\"Date\", \"Close\", \"Open\", \"Symbol\"]:\n",
    "        if column in df.columns:\n",
    "            null_count = df.filter(col(column).isNull()).count()\n",
    "            null_counts[column] = null_count\n",
    "    \n",
    "    print(\"Null counts in essential columns:\")\n",
    "    for col_name, count in null_counts.items():\n",
    "        print(f\"- {col_name}: {count} nulls ({count/initial_count:.2%})\")\n",
    "    \n",
    "    # Remove rows with null dates or missing basic price data\n",
    "    cleaned_df = df.filter(\n",
    "        col(\"Date\").isNotNull() &\n",
    "        col(\"Close\").isNotNull() &\n",
    "        col(\"Open\").isNotNull()\n",
    "    )\n",
    "    \n",
    "    # Count rows after removing null essential data\n",
    "    basic_cleaned_count = cleaned_df.count()\n",
    "    print(f\"Rows after basic cleaning: {basic_cleaned_count} ({basic_cleaned_count/initial_count:.2%} of original)\")\n",
    "    \n",
    "    # Get list of numeric columns for different treatment strategies\n",
    "    price_cols = [\"Open\", \"High\", \"Low\", \"Close\", \"Volume\", \"Adjusted_Close\"]\n",
    "    derived_cols = [f.name for f in cleaned_df.schema.fields \n",
    "                   if isinstance(f.dataType, (DoubleType, IntegerType)) \n",
    "                   and f.name not in price_cols\n",
    "                   and not f.name.startswith(\"Target_\")]\n",
    "    \n",
    "    target_cols = [f.name for f in cleaned_df.schema.fields \n",
    "                  if f.name.startswith(\"Target_\")]\n",
    "    \n",
    "    # Check for null values in these column groups\n",
    "    print(\"\\nNull value counts after basic cleaning:\")\n",
    "    for col_type, columns in [(\"Price\", price_cols), \n",
    "                              (\"Derived\", derived_cols[:5] + [\"...\"]), \n",
    "                              (\"Target\", target_cols[:5] + [\"...\"])]:\n",
    "        for col_name in columns:\n",
    "            if col_name != \"...\":\n",
    "                if col_name in cleaned_df.columns:\n",
    "                    null_count = cleaned_df.filter(col(col_name).isNull()).count()\n",
    "                    print(f\"- {col_type}: {col_name}: {null_count} nulls ({null_count/basic_cleaned_count:.2%})\")\n",
    "    \n",
    "    # Handle null values in price columns (more strict)\n",
    "    # For most price data we require it to be present\n",
    "    for col_name in price_cols:\n",
    "        if col_name in cleaned_df.columns:\n",
    "            cleaned_df = cleaned_df.filter(col(col_name).isNotNull())\n",
    "    \n",
    "    # For derived metrics, fill with appropriate defaults\n",
    "    # Fill zeros for ratios, moving averages and other metrics that are calculated\n",
    "    for col_name in derived_cols:\n",
    "        if col_name in cleaned_df.columns:\n",
    "            cleaned_df = cleaned_df.withColumn(\n",
    "                col_name, \n",
    "                when(col(col_name).isNull(), 0).otherwise(col(col_name))\n",
    "            )\n",
    "    \n",
    "    # For target columns, we need to decide whether to drop rows or impute\n",
    "    # Here we'll drop rows where required target columns are missing\n",
    "    required_targets = [\"Target_Direction_1d\", \"Target_Return_1d\"]  # Example\n",
    "    for col_name in required_targets:\n",
    "        if col_name in cleaned_df.columns:\n",
    "            cleaned_df = cleaned_df.filter(col(col_name).isNotNull())\n",
    "    \n",
    "    # Remove extreme outliers in returns\n",
    "    if \"Return\" in cleaned_df.columns:\n",
    "        cleaned_df = cleaned_df.filter(\n",
    "            (col(\"Return\").isNull()) | \n",
    "            (abs(col(\"Return\")) < 0.5)  # Filter returns > ±50% as likely errors\n",
    "        )\n",
    "    \n",
    "    # Count rows after all cleaning\n",
    "    final_count = cleaned_df.count()\n",
    "    print(f\"Final row count: {final_count} ({final_count/initial_count:.2%} of original)\")\n",
    "    \n",
    "    return cleaned_df"
   ]
  },
  {
   "cell_type": "code",
   "execution_count": 18,
   "metadata": {},
   "outputs": [],
   "source": [
    "from pyspark.ml.feature import VectorAssembler, StandardScaler\n",
    "\n",
    "def scale_features(train_df, val_df, test_df, feature_cols):\n",
    "    \"\"\"\n",
    "    Scale features using StandardScaler fit on training data only\n",
    "    \n",
    "    Args:\n",
    "        train_df: Training DataFrame\n",
    "        val_df: Validation DataFrame\n",
    "        test_df: Test DataFrame\n",
    "        feature_cols: List of feature column names to scale\n",
    "    \n",
    "    Returns:\n",
    "        Tuple of (scaled_train_df, scaled_val_df, scaled_test_df)\n",
    "    \"\"\"\n",
    "    # Assemble features into a vector\n",
    "    assembler = VectorAssembler(inputCols=feature_cols, outputCol=\"features_vec\")\n",
    "    \n",
    "    # Assemble each dataset\n",
    "    train_assembled = assembler.transform(train_df)\n",
    "    val_assembled = assembler.transform(val_df)\n",
    "    test_assembled = assembler.transform(test_df)\n",
    "    \n",
    "    # Fit scaler on training data only\n",
    "    scaler = StandardScaler(inputCol=\"features_vec\", outputCol=\"scaled_features\")\n",
    "    scaler_model = scaler.fit(train_assembled)\n",
    "    \n",
    "    # Transform all datasets using the scaler fit on training data\n",
    "    train_scaled = scaler_model.transform(train_assembled)\n",
    "    val_scaled = scaler_model.transform(val_assembled)\n",
    "    test_scaled = scaler_model.transform(test_assembled)\n",
    "    \n",
    "    return train_scaled, val_scaled, test_scaled\n"
   ]
  },
  {
   "cell_type": "code",
   "execution_count": 19,
   "metadata": {},
   "outputs": [],
   "source": [
    "from pyspark.sql.functions import abs as spark_abs"
   ]
  },
  {
   "cell_type": "code",
   "execution_count": 20,
   "metadata": {},
   "outputs": [],
   "source": [
    "def clean_and_handle_missing_values_improved(df):\n",
    "    \"\"\"\n",
    "    Clean data and handle missing values with improved approach\n",
    "    \n",
    "    Args:\n",
    "        df: PySpark DataFrame with features\n",
    "    \n",
    "    Returns:\n",
    "        Cleaned PySpark DataFrame\n",
    "    \"\"\"\n",
    "    # Count rows before cleaning\n",
    "    initial_count = df.count()\n",
    "    print(f\"Initial row count: {initial_count}\")\n",
    "    \n",
    "    # Check null counts in essential columns\n",
    "    null_counts = {}\n",
    "    for column in [\"Date\", \"Close\", \"Open\", \"Symbol\"]:\n",
    "        if column in df.columns:\n",
    "            null_count = df.filter(col(column).isNull()).count()\n",
    "            null_counts[column] = null_count\n",
    "    \n",
    "    print(\"Null counts in essential columns:\")\n",
    "    for col_name, count in null_counts.items():\n",
    "        print(f\"- {col_name}: {count} nulls ({count/initial_count:.2%})\")\n",
    "    \n",
    "    # Remove rows with null dates or missing basic price data\n",
    "    cleaned_df = df.filter(\n",
    "        col(\"Date\").isNotNull() &\n",
    "        col(\"Close\").isNotNull() &\n",
    "        col(\"Open\").isNotNull()\n",
    "    )\n",
    "    \n",
    "    # Count rows after removing null essential data\n",
    "    basic_cleaned_count = cleaned_df.count()\n",
    "    print(f\"Rows after basic cleaning: {basic_cleaned_count} ({basic_cleaned_count/initial_count:.2%} of original)\")\n",
    "    \n",
    "    # Get list of numeric columns for different treatment strategies\n",
    "    price_cols = [\"Open\", \"High\", \"Low\", \"Close\", \"Volume\", \"Adjusted_Close\"]\n",
    "    derived_cols = [f.name for f in cleaned_df.schema.fields \n",
    "                   if isinstance(f.dataType, (DoubleType, IntegerType)) \n",
    "                   and f.name not in price_cols\n",
    "                   and not f.name.startswith(\"Target_\")]\n",
    "    \n",
    "    target_cols = [f.name for f in cleaned_df.schema.fields \n",
    "                  if f.name.startswith(\"Target_\")]\n",
    "    \n",
    "    # Check for null values in these column groups\n",
    "    print(\"\\nNull value counts after basic cleaning:\")\n",
    "    for col_type, columns in [(\"Price\", price_cols), \n",
    "                              (\"Derived\", derived_cols[:5] + [\"...\"]), \n",
    "                              (\"Target\", target_cols[:5] + [\"...\"])]:\n",
    "        for col_name in columns:\n",
    "            if col_name != \"...\":\n",
    "                if col_name in cleaned_df.columns:\n",
    "                    null_count = cleaned_df.filter(col(col_name).isNull()).count()\n",
    "                    print(f\"- {col_type}: {col_name}: {null_count} nulls ({null_count/basic_cleaned_count:.2%})\")\n",
    "    \n",
    "    # Handle null values in price columns (more strict)\n",
    "    # For most price data we require it to be present\n",
    "    for col_name in price_cols:\n",
    "        if col_name in cleaned_df.columns:\n",
    "            cleaned_df = cleaned_df.filter(col(col_name).isNotNull())\n",
    "    \n",
    "    # For derived metrics, fill with appropriate defaults\n",
    "    # Fill zeros for ratios, moving averages and other metrics that are calculated\n",
    "    for col_name in derived_cols:\n",
    "        if col_name in cleaned_df.columns:\n",
    "            cleaned_df = cleaned_df.withColumn(\n",
    "                col_name, \n",
    "                when(col(col_name).isNull(), 0).otherwise(col(col_name))\n",
    "            )\n",
    "    \n",
    "    # For target columns, we need to decide whether to drop rows or impute\n",
    "    # Here we'll drop rows where required target columns are missing\n",
    "    required_targets = [\"Target_Direction_1d\", \"Target_Return_1d\"]  # Example\n",
    "    for col_name in required_targets:\n",
    "        if col_name in cleaned_df.columns:\n",
    "            cleaned_df = cleaned_df.filter(col(col_name).isNotNull())\n",
    "    \n",
    "    # Remove extreme outliers in returns\n",
    "    if \"Return\" in cleaned_df.columns:\n",
    "        cleaned_df = cleaned_df.filter(\n",
    "            (col(\"Return\").isNull()) | \n",
    "            (spark_abs(col(\"Return\")) < 0.5)  # Filter returns > ±50% as likely errors\n",
    "        )\n",
    "    \n",
    "    # Count rows after all cleaning\n",
    "    final_count = cleaned_df.count()\n",
    "    print(f\"Final row count: {final_count} ({final_count/initial_count:.2%} of original)\")\n",
    "    \n",
    "    return cleaned_df"
   ]
  },
  {
   "cell_type": "code",
   "execution_count": 21,
   "metadata": {},
   "outputs": [
    {
     "name": "stdout",
     "output_type": "stream",
     "text": [
      "Available columns:\n",
      "['Date', 'Low', 'Open', 'Volume', 'High', 'Close', 'Adjusted Close', 'Symbol', 'currency', 'exchange', 'instrumentType', 'firstTradeDate', 'priceHint', 'timezone', 'Adjusted_Close', 'PrevClose', 'Return', 'LogReturn', 'MA7', 'MA30', 'MA90', 'Close_MA7_Ratio', 'Close_MA30_Ratio', 'MA7_MA30_Ratio', 'STD7', 'STD30', 'VolatilityRatio', 'HighLowRange', 'HighLowRangeRatio', 'CloseDelta', 'CloseOpenRatio', 'VolumeDelta', 'VolumeMA7', 'VolumeMA30', 'RelativeVolume', 'MoneyFlow', 'MaxHigh7', 'MinLow7', 'MaxHigh30', 'MinLow30', 'CloseToHighPos7', 'CloseToHighPos30', 'UpMove', 'DownMove', 'AvgUp14', 'AvgDown14', 'RS', 'RSI', 'FutureClose_1d', 'FutureClose_5d', 'FutureClose_10d', 'FutureClose_21d', 'Target_Return_1d', 'Target_Direction_1d', 'Target_Return_5d', 'Target_Direction_5d', 'Target_Return_10d', 'Target_Direction_10d', 'Target_Return_21d', 'Target_Direction_21d', 'Return_next_1d', 'Return_next_2d', 'Return_next_3d', 'Return_next_4d', 'Return_next_5d', 'Avg_Next_5d_Returns', 'Target_Volatility_5d', 'Target_ExtMove2pct_1d', 'Target_ExtMove5pct_1d', 'Target_ExtMove2pct_5d', 'Target_ExtMove5pct_5d']\n",
      "\n",
      "Column data types:\n",
      "Date: DateType()\n",
      "Low: DoubleType()\n",
      "Open: DoubleType()\n",
      "Volume: IntegerType()\n",
      "High: DoubleType()\n",
      "Close: DoubleType()\n",
      "Adjusted Close: DoubleType()\n",
      "Symbol: StringType()\n",
      "currency: StringType()\n",
      "exchange: StringType()\n",
      "instrumentType: StringType()\n",
      "firstTradeDate: IntegerType()\n",
      "priceHint: IntegerType()\n",
      "timezone: StringType()\n",
      "Adjusted_Close: DoubleType()\n",
      "PrevClose: DoubleType()\n",
      "Return: DoubleType()\n",
      "LogReturn: DoubleType()\n",
      "MA7: DoubleType()\n",
      "MA30: DoubleType()\n",
      "MA90: DoubleType()\n",
      "Close_MA7_Ratio: DoubleType()\n",
      "Close_MA30_Ratio: DoubleType()\n",
      "MA7_MA30_Ratio: DoubleType()\n",
      "STD7: DoubleType()\n",
      "STD30: DoubleType()\n",
      "VolatilityRatio: DoubleType()\n",
      "HighLowRange: DoubleType()\n",
      "HighLowRangeRatio: DoubleType()\n",
      "CloseDelta: DoubleType()\n",
      "CloseOpenRatio: DoubleType()\n",
      "VolumeDelta: IntegerType()\n",
      "VolumeMA7: DoubleType()\n",
      "VolumeMA30: DoubleType()\n",
      "RelativeVolume: DoubleType()\n",
      "MoneyFlow: DoubleType()\n",
      "MaxHigh7: DoubleType()\n",
      "MinLow7: DoubleType()\n",
      "MaxHigh30: DoubleType()\n",
      "MinLow30: DoubleType()\n",
      "CloseToHighPos7: DoubleType()\n",
      "CloseToHighPos30: DoubleType()\n",
      "UpMove: DoubleType()\n",
      "DownMove: DoubleType()\n",
      "AvgUp14: DoubleType()\n",
      "AvgDown14: DoubleType()\n",
      "RS: DoubleType()\n",
      "RSI: DoubleType()\n",
      "FutureClose_1d: DoubleType()\n",
      "FutureClose_5d: DoubleType()\n",
      "FutureClose_10d: DoubleType()\n",
      "FutureClose_21d: DoubleType()\n",
      "Target_Return_1d: DoubleType()\n",
      "Target_Direction_1d: IntegerType()\n",
      "Target_Return_5d: DoubleType()\n",
      "Target_Direction_5d: IntegerType()\n",
      "Target_Return_10d: DoubleType()\n",
      "Target_Direction_10d: IntegerType()\n",
      "Target_Return_21d: DoubleType()\n",
      "Target_Direction_21d: IntegerType()\n",
      "Return_next_1d: DoubleType()\n",
      "Return_next_2d: DoubleType()\n",
      "Return_next_3d: DoubleType()\n",
      "Return_next_4d: DoubleType()\n",
      "Return_next_5d: DoubleType()\n",
      "Avg_Next_5d_Returns: DoubleType()\n",
      "Target_Volatility_5d: DoubleType()\n",
      "Target_ExtMove2pct_1d: IntegerType()\n",
      "Target_ExtMove5pct_1d: IntegerType()\n",
      "Target_ExtMove2pct_5d: IntegerType()\n",
      "Target_ExtMove5pct_5d: IntegerType()\n",
      "\n",
      "Number of selected feature columns: 18\n",
      "Selected features: ['Low', 'Open', 'Volume', 'High', 'Close', 'Adjusted_Close', 'Return', 'LogReturn', 'MA7', 'MA30', 'MA90', 'Close_MA7_Ratio', 'Close_MA30_Ratio', 'MA7_MA30_Ratio', 'STD7', 'STD30', 'VolatilityRatio', 'RSI']\n",
      "Initial row count: 3513637\n"
     ]
    },
    {
     "name": "stderr",
     "output_type": "stream",
     "text": [
      "                                                                                \r"
     ]
    },
    {
     "name": "stdout",
     "output_type": "stream",
     "text": [
      "Null counts in essential columns:\n",
      "- Date: 0 nulls (0.00%)\n",
      "- Close: 11165 nulls (0.32%)\n",
      "- Open: 11165 nulls (0.32%)\n",
      "- Symbol: 0 nulls (0.00%)\n"
     ]
    },
    {
     "name": "stderr",
     "output_type": "stream",
     "text": [
      "                                                                                \r"
     ]
    },
    {
     "name": "stdout",
     "output_type": "stream",
     "text": [
      "Rows after basic cleaning: 3502472 (99.68% of original)\n",
      "\n",
      "Null value counts after basic cleaning:\n",
      "- Price: Open: 0 nulls (0.00%)\n"
     ]
    },
    {
     "name": "stderr",
     "output_type": "stream",
     "text": [
      "                                                                                \r"
     ]
    },
    {
     "name": "stdout",
     "output_type": "stream",
     "text": [
      "- Price: High: 0 nulls (0.00%)\n",
      "- Price: Low: 0 nulls (0.00%)\n",
      "- Price: Close: 0 nulls (0.00%)\n"
     ]
    },
    {
     "name": "stderr",
     "output_type": "stream",
     "text": [
      "                                                                                \r"
     ]
    },
    {
     "name": "stdout",
     "output_type": "stream",
     "text": [
      "- Price: Volume: 147237 nulls (4.20%)\n"
     ]
    },
    {
     "name": "stderr",
     "output_type": "stream",
     "text": [
      "                                                                                \r"
     ]
    },
    {
     "name": "stdout",
     "output_type": "stream",
     "text": [
      "- Price: Adjusted_Close: 734687 nulls (20.98%)\n"
     ]
    },
    {
     "name": "stderr",
     "output_type": "stream",
     "text": [
      "                                                                                \r"
     ]
    },
    {
     "name": "stdout",
     "output_type": "stream",
     "text": [
      "- Derived: Adjusted Close: 2767785 nulls (79.02%)\n"
     ]
    },
    {
     "name": "stderr",
     "output_type": "stream",
     "text": [
      "                                                                                \r"
     ]
    },
    {
     "name": "stdout",
     "output_type": "stream",
     "text": [
      "- Derived: firstTradeDate: 0 nulls (0.00%)\n",
      "- Derived: priceHint: 0 nulls (0.00%)\n"
     ]
    },
    {
     "name": "stderr",
     "output_type": "stream",
     "text": [
      "                                                                                \r"
     ]
    },
    {
     "name": "stdout",
     "output_type": "stream",
     "text": [
      "- Derived: PrevClose: 3389 nulls (0.10%)\n"
     ]
    },
    {
     "name": "stderr",
     "output_type": "stream",
     "text": [
      "                                                                                \r"
     ]
    },
    {
     "name": "stdout",
     "output_type": "stream",
     "text": [
      "- Derived: Return: 3389 nulls (0.10%)\n"
     ]
    },
    {
     "name": "stderr",
     "output_type": "stream",
     "text": [
      "                                                                                \r"
     ]
    },
    {
     "name": "stdout",
     "output_type": "stream",
     "text": [
      "- Target: Target_Return_1d: 2427 nulls (0.07%)\n",
      "- Target: Target_Direction_1d: 0 nulls (0.00%)\n",
      "- Target: Target_Return_5d: 2651 nulls (0.08%)\n",
      "- Target: Target_Direction_5d: 0 nulls (0.00%)\n"
     ]
    },
    {
     "name": "stderr",
     "output_type": "stream",
     "text": [
      "                                                                                \r"
     ]
    },
    {
     "name": "stdout",
     "output_type": "stream",
     "text": [
      "- Target: Target_Return_10d: 2853 nulls (0.08%)\n"
     ]
    },
    {
     "name": "stderr",
     "output_type": "stream",
     "text": [
      "                                                                                \r"
     ]
    },
    {
     "name": "stdout",
     "output_type": "stream",
     "text": [
      "Final row count: 2642692 (75.21% of original)\n"
     ]
    },
    {
     "name": "stderr",
     "output_type": "stream",
     "text": [
      "                                                                                \r"
     ]
    },
    {
     "name": "stdout",
     "output_type": "stream",
     "text": [
      "Initial row count: 1003971\n"
     ]
    },
    {
     "name": "stderr",
     "output_type": "stream",
     "text": [
      "                                                                                \r"
     ]
    },
    {
     "name": "stdout",
     "output_type": "stream",
     "text": [
      "Null counts in essential columns:\n",
      "- Date: 0 nulls (0.00%)\n",
      "- Close: 11885 nulls (1.18%)\n",
      "- Open: 11885 nulls (1.18%)\n",
      "- Symbol: 0 nulls (0.00%)\n"
     ]
    },
    {
     "name": "stderr",
     "output_type": "stream",
     "text": [
      "                                                                                \r"
     ]
    },
    {
     "name": "stdout",
     "output_type": "stream",
     "text": [
      "Rows after basic cleaning: 992086 (98.82% of original)\n",
      "\n",
      "Null value counts after basic cleaning:\n"
     ]
    },
    {
     "name": "stderr",
     "output_type": "stream",
     "text": [
      "                                                                                \r"
     ]
    },
    {
     "name": "stdout",
     "output_type": "stream",
     "text": [
      "- Price: Open: 0 nulls (0.00%)\n"
     ]
    },
    {
     "name": "stderr",
     "output_type": "stream",
     "text": [
      "                                                                                \r"
     ]
    },
    {
     "name": "stdout",
     "output_type": "stream",
     "text": [
      "- Price: High: 0 nulls (0.00%)\n",
      "- Price: Low: 0 nulls (0.00%)\n",
      "- Price: Close: 0 nulls (0.00%)\n"
     ]
    },
    {
     "name": "stderr",
     "output_type": "stream",
     "text": [
      "                                                                                \r"
     ]
    },
    {
     "name": "stdout",
     "output_type": "stream",
     "text": [
      "- Price: Volume: 33373 nulls (3.36%)\n"
     ]
    },
    {
     "name": "stderr",
     "output_type": "stream",
     "text": [
      "                                                                                \r"
     ]
    },
    {
     "name": "stdout",
     "output_type": "stream",
     "text": [
      "- Price: Adjusted_Close: 209246 nulls (21.09%)\n"
     ]
    },
    {
     "name": "stderr",
     "output_type": "stream",
     "text": [
      "                                                                                \r"
     ]
    },
    {
     "name": "stdout",
     "output_type": "stream",
     "text": [
      "- Derived: Adjusted Close: 782840 nulls (78.91%)\n"
     ]
    },
    {
     "name": "stderr",
     "output_type": "stream",
     "text": [
      "                                                                                \r"
     ]
    },
    {
     "name": "stdout",
     "output_type": "stream",
     "text": [
      "- Derived: firstTradeDate: 0 nulls (0.00%)\n",
      "- Derived: priceHint: 0 nulls (0.00%)\n",
      "- Derived: PrevClose: 51 nulls (0.01%)\n"
     ]
    },
    {
     "name": "stderr",
     "output_type": "stream",
     "text": [
      "                                                                                \r"
     ]
    },
    {
     "name": "stdout",
     "output_type": "stream",
     "text": [
      "- Derived: Return: 51 nulls (0.01%)\n"
     ]
    },
    {
     "name": "stderr",
     "output_type": "stream",
     "text": [
      "                                                                                \r"
     ]
    },
    {
     "name": "stdout",
     "output_type": "stream",
     "text": [
      "- Target: Target_Return_1d: 70 nulls (0.01%)\n",
      "- Target: Target_Direction_1d: 0 nulls (0.00%)\n"
     ]
    },
    {
     "name": "stderr",
     "output_type": "stream",
     "text": [
      "                                                                                \r"
     ]
    },
    {
     "name": "stdout",
     "output_type": "stream",
     "text": [
      "- Target: Target_Return_5d: 177 nulls (0.02%)\n",
      "- Target: Target_Direction_5d: 0 nulls (0.00%)\n"
     ]
    },
    {
     "name": "stderr",
     "output_type": "stream",
     "text": [
      "                                                                                \r"
     ]
    },
    {
     "name": "stdout",
     "output_type": "stream",
     "text": [
      "- Target: Target_Return_10d: 286 nulls (0.03%)\n"
     ]
    },
    {
     "name": "stderr",
     "output_type": "stream",
     "text": [
      "                                                                                \r"
     ]
    },
    {
     "name": "stdout",
     "output_type": "stream",
     "text": [
      "Final row count: 755060 (75.21% of original)\n"
     ]
    },
    {
     "name": "stderr",
     "output_type": "stream",
     "text": [
      "                                                                                \r"
     ]
    },
    {
     "name": "stdout",
     "output_type": "stream",
     "text": [
      "Initial row count: 502533\n"
     ]
    },
    {
     "name": "stderr",
     "output_type": "stream",
     "text": [
      "                                                                                \r"
     ]
    },
    {
     "name": "stdout",
     "output_type": "stream",
     "text": [
      "Null counts in essential columns:\n",
      "- Date: 0 nulls (0.00%)\n",
      "- Close: 11763 nulls (2.34%)\n",
      "- Open: 11763 nulls (2.34%)\n",
      "- Symbol: 0 nulls (0.00%)\n"
     ]
    },
    {
     "name": "stderr",
     "output_type": "stream",
     "text": [
      "                                                                                \r"
     ]
    },
    {
     "name": "stdout",
     "output_type": "stream",
     "text": [
      "Rows after basic cleaning: 490770 (97.66% of original)\n",
      "\n",
      "Null value counts after basic cleaning:\n",
      "- Price: Open: 0 nulls (0.00%)\n"
     ]
    },
    {
     "name": "stderr",
     "output_type": "stream",
     "text": [
      "                                                                                \r"
     ]
    },
    {
     "name": "stdout",
     "output_type": "stream",
     "text": [
      "- Price: High: 0 nulls (0.00%)\n",
      "- Price: Low: 0 nulls (0.00%)\n",
      "- Price: Close: 0 nulls (0.00%)\n"
     ]
    },
    {
     "name": "stderr",
     "output_type": "stream",
     "text": [
      "                                                                                \r"
     ]
    },
    {
     "name": "stdout",
     "output_type": "stream",
     "text": [
      "- Price: Volume: 10901 nulls (2.22%)\n"
     ]
    },
    {
     "name": "stderr",
     "output_type": "stream",
     "text": [
      "                                                                                \r"
     ]
    },
    {
     "name": "stdout",
     "output_type": "stream",
     "text": [
      "- Price: Adjusted_Close: 104183 nulls (21.23%)\n"
     ]
    },
    {
     "name": "stderr",
     "output_type": "stream",
     "text": [
      "                                                                                \r"
     ]
    },
    {
     "name": "stdout",
     "output_type": "stream",
     "text": [
      "- Derived: Adjusted Close: 386587 nulls (78.77%)\n"
     ]
    },
    {
     "name": "stderr",
     "output_type": "stream",
     "text": [
      "                                                                                \r"
     ]
    },
    {
     "name": "stdout",
     "output_type": "stream",
     "text": [
      "- Derived: firstTradeDate: 0 nulls (0.00%)\n",
      "- Derived: priceHint: 0 nulls (0.00%)\n"
     ]
    },
    {
     "name": "stderr",
     "output_type": "stream",
     "text": [
      "                                                                                \r"
     ]
    },
    {
     "name": "stdout",
     "output_type": "stream",
     "text": [
      "- Derived: PrevClose: 11 nulls (0.00%)\n"
     ]
    },
    {
     "name": "stderr",
     "output_type": "stream",
     "text": [
      "                                                                                \r"
     ]
    },
    {
     "name": "stdout",
     "output_type": "stream",
     "text": [
      "- Derived: Return: 11 nulls (0.00%)\n"
     ]
    },
    {
     "name": "stderr",
     "output_type": "stream",
     "text": [
      "                                                                                \r"
     ]
    },
    {
     "name": "stdout",
     "output_type": "stream",
     "text": [
      "- Target: Target_Return_1d: 954 nulls (0.19%)\n",
      "- Target: Target_Direction_1d: 0 nulls (0.00%)\n",
      "- Target: Target_Return_5d: 4725 nulls (0.96%)\n",
      "- Target: Target_Direction_5d: 0 nulls (0.00%)\n",
      "- Target: Target_Return_10d: 9436 nulls (1.92%)\n"
     ]
    },
    {
     "name": "stderr",
     "output_type": "stream",
     "text": [
      "                                                                                \r"
     ]
    },
    {
     "name": "stdout",
     "output_type": "stream",
     "text": [
      "Final row count: 377256 (75.07% of original)\n"
     ]
    },
    {
     "name": "stderr",
     "output_type": "stream",
     "text": [
      "                                                                                \r"
     ]
    },
    {
     "name": "stdout",
     "output_type": "stream",
     "text": [
      "Scaled features sample:\n"
     ]
    },
    {
     "name": "stderr",
     "output_type": "stream",
     "text": [
      "[Stage 501:=============================================>      (105 + 12) / 120]\r"
     ]
    },
    {
     "name": "stdout",
     "output_type": "stream",
     "text": [
      "+------+----------+------------------+--------------------+\n",
      "|Symbol|      Date|             Close|     scaled_features|\n",
      "+------+----------+------------------+--------------------+\n",
      "|  ANDE|1996-02-20|5.1666669845581055|[0.04611032369223...|\n",
      "|  ANDE|1996-02-21|              5.25|[0.04398808841265...|\n",
      "|  ANDE|1996-02-22|4.8333330154418945|[0.04167292586461...|\n",
      "+------+----------+------------------+--------------------+\n",
      "only showing top 3 rows\n",
      "\n"
     ]
    },
    {
     "name": "stderr",
     "output_type": "stream",
     "text": [
      "                                                                                \r"
     ]
    }
   ],
   "source": [
    "# First, let's check the available columns in our dataset\n",
    "print(\"Available columns:\")\n",
    "print(final_dataset.columns)\n",
    "\n",
    "# Then check column types to verify what PySpark thinks they are\n",
    "print(\"\\nColumn data types:\")\n",
    "for field in final_dataset.schema.fields:\n",
    "    print(f\"{field.name}: {field.dataType}\")\n",
    "\n",
    "# Now create a better filter to select feature columns\n",
    "feature_cols = [c for c in final_dataset.columns \n",
    "               if c not in [\"Symbol\", \"Date\"] \n",
    "               and not c.startswith(\"Target_\")\n",
    "               and isinstance(final_dataset.schema[c].dataType, (IntegerType, DoubleType))\n",
    "               and c in ['Open', 'High', 'Low', 'Close', 'Volume', 'Adjusted_Close', \n",
    "                         'Return', 'LogReturn', 'MA7', 'MA30', 'MA90', \n",
    "                         'Close_MA7_Ratio', 'Close_MA30_Ratio', 'MA7_MA30_Ratio',\n",
    "                         'STD7', 'STD30', 'VolatilityRatio', 'RSI']]\n",
    "\n",
    "print(f\"\\nNumber of selected feature columns: {len(feature_cols)}\")\n",
    "print(\"Selected features:\", feature_cols)\n",
    "\n",
    "# Make sure we have at least some features before scaling\n",
    "if len(feature_cols) > 0:\n",
    "    # Clean the data\n",
    "    train_df = clean_and_handle_missing_values_improved(train_df)\n",
    "    val_df = clean_and_handle_missing_values_improved(val_df)\n",
    "    test_df = clean_and_handle_missing_values_improved(test_df)\n",
    "\n",
    "    # Scale the features\n",
    "    train_scaled, val_scaled, test_scaled = scale_features(train_df, val_df, test_df, feature_cols)\n",
    "    \n",
    "    # Verify scaling worked\n",
    "    print(\"Scaled features sample:\")\n",
    "    train_scaled.select(\"Symbol\", \"Date\", \"Close\", \"scaled_features\").show(3, truncate=True)\n",
    "else:\n",
    "    print(\"ERROR: No feature columns were selected for scaling!\")\n",
    "    \n",
    "    # As an alternative, we can create some basic features to continue\n",
    "    print(\"Creating basic feature set to continue...\")\n",
    "    basic_features = ['Open', 'High', 'Low', 'Close', 'Volume']\n",
    "    # Verify these columns exist\n",
    "    basic_cols = [c for c in basic_features if c in final_dataset.columns]\n",
    "    \n",
    "    if len(basic_cols) > 0:\n",
    "        train_scaled, val_scaled, test_scaled = scale_features(train_df, val_df, test_df, basic_cols)\n",
    "        print(\"Scaled with basic features:\")\n",
    "        train_scaled.select(\"Symbol\", \"Date\", \"Close\", \"scaled_features\").show(3, truncate=True)"
   ]
  },
  {
   "cell_type": "markdown",
   "metadata": {},
   "source": [
    "## 5. Checkpoint the data after joining to avoid wasting time and resources!\n"
   ]
  },
  {
   "cell_type": "code",
   "execution_count": 22,
   "metadata": {},
   "outputs": [
    {
     "name": "stderr",
     "output_type": "stream",
     "text": [
      "                                                                                \r"
     ]
    },
    {
     "name": "stdout",
     "output_type": "stream",
     "text": [
      "Data checkpointed to processed_data/stock_features_full\n"
     ]
    },
    {
     "name": "stderr",
     "output_type": "stream",
     "text": [
      "                                                                                \r"
     ]
    },
    {
     "name": "stdout",
     "output_type": "stream",
     "text": [
      "Data checkpointed to processed_data/stock_features_full/train\n"
     ]
    },
    {
     "name": "stderr",
     "output_type": "stream",
     "text": [
      "                                                                                \r"
     ]
    },
    {
     "name": "stdout",
     "output_type": "stream",
     "text": [
      "Data checkpointed to processed_data/stock_features_full/validation\n"
     ]
    },
    {
     "name": "stderr",
     "output_type": "stream",
     "text": [
      "                                                                                \r"
     ]
    },
    {
     "name": "stdout",
     "output_type": "stream",
     "text": [
      "Data checkpointed to processed_data/stock_features_full/test\n",
      "Checkpoint data shape: (5020141, 71)\n"
     ]
    }
   ],
   "source": [
    "def checkpoint_processed_data(df, path):\n",
    "    \"\"\"\n",
    "    Save the processed data to avoid redundant processing\n",
    "    \n",
    "    Args:\n",
    "        df: PySpark DataFrame to checkpoint\n",
    "        path: Directory path to save the data\n",
    "    \"\"\"\n",
    "    df.write.parquet(path, mode=\"overwrite\")\n",
    "    print(f\"Data checkpointed to {path}\")\n",
    "\n",
    "# Save the preprocessed data\n",
    "checkpoint_path = \"processed_data/stock_features_full\"\n",
    "checkpoint_processed_data(final_dataset, checkpoint_path)\n",
    "\n",
    "# Save the splits separately\n",
    "checkpoint_processed_data(train_df, f\"{checkpoint_path}/train\")\n",
    "checkpoint_processed_data(val_df, f\"{checkpoint_path}/validation\")\n",
    "checkpoint_processed_data(test_df, f\"{checkpoint_path}/test\")\n",
    "\n",
    "# Verify we can read it back\n",
    "checkpoint_df = spark.read.parquet(checkpoint_path)\n",
    "print(f\"Checkpoint data shape: {(checkpoint_df.count(), len(checkpoint_df.columns))}\")"
   ]
  },
  {
   "cell_type": "markdown",
   "metadata": {},
   "source": [
    "## 6. Summarize how split the data train/validation/test - making sure no leaks occur; for example:normalize your data using the training statistics.\n",
    "\n",
    "Since we are working with numerical data with few categorical variables, we shall use 3 to 5 years as a whole chunk for training data, the next year as a validation set, and the final year as the test data. We will normalize the data based on the training set statistics only."
   ]
  },
  {
   "cell_type": "markdown",
   "metadata": {},
   "source": [
    "## 7. Credit assignment plan: describe a plan on how the work will be distributed across the team members and how will credit be assigned. \n",
    "\n",
    "For Milestone 1: Project planning and data dictionary: Xuhui finished most of code chunck, Zheling finished eda set and Zifei is reponsible for writing works.\n",
    "\n",
    "For Milestone 2: EDA and Baseline pipeline: Zheling will refine eda result, Zifei construct pipeline and Xuhui will finish wiriting works. \n",
    "\n",
    "For Milestone 3: Feature Engineering and hyperparameter tuning: All three person will contruct two models for the three testing condition and share the result and idea.\n",
    "\n",
    "For Milestone 4: Final model selection and final report: The best model constructor will testing the ensenble method and the rest two people will construct the report."
   ]
  },
  {
   "cell_type": "markdown",
   "metadata": {},
   "source": [
    "## 8. STRETCH Goal for this milestone: code up some or all of the above tasks in rank order of items 1, 2, 3, 4, and 5.\n",
    "\n",
    "Finished as above"
   ]
  }
 ],
 "metadata": {
  "kernelspec": {
   "display_name": "spark",
   "language": "python",
   "name": "python3"
  },
  "language_info": {
   "codemirror_mode": {
    "name": "ipython",
    "version": 3
   },
   "file_extension": ".py",
   "mimetype": "text/x-python",
   "name": "python",
   "nbconvert_exporter": "python",
   "pygments_lexer": "ipython3",
   "version": "3.10.16"
  }
 },
 "nbformat": 4,
 "nbformat_minor": 2
}
